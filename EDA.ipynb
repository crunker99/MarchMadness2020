{
 "cells": [
  {
   "cell_type": "code",
   "execution_count": 1,
   "metadata": {},
   "outputs": [],
   "source": [
    "import pandas as pd\n",
    "import numpy as np\n",
    "import matplotlib.pyplot as plt\n",
    "%matplotlib inline\n",
    "plt.style.use('ggplot')"
   ]
  },
  {
   "cell_type": "markdown",
   "metadata": {},
   "source": [
    "### Load data"
   ]
  },
  {
   "cell_type": "code",
   "execution_count": 100,
   "metadata": {},
   "outputs": [],
   "source": [
    "df = pd.read_excel('vizathon-final.xlsx')"
   ]
  },
  {
   "cell_type": "code",
   "execution_count": 3,
   "metadata": {},
   "outputs": [
    {
     "data": {
      "text/html": [
       "<div>\n",
       "<style scoped>\n",
       "    .dataframe tbody tr th:only-of-type {\n",
       "        vertical-align: middle;\n",
       "    }\n",
       "\n",
       "    .dataframe tbody tr th {\n",
       "        vertical-align: top;\n",
       "    }\n",
       "\n",
       "    .dataframe thead th {\n",
       "        text-align: right;\n",
       "    }\n",
       "</style>\n",
       "<table border=\"1\" class=\"dataframe\">\n",
       "  <thead>\n",
       "    <tr style=\"text-align: right;\">\n",
       "      <th></th>\n",
       "      <th>game_id</th>\n",
       "      <th>season</th>\n",
       "      <th>day_num</th>\n",
       "      <th>date</th>\n",
       "      <th>team_id</th>\n",
       "      <th>team_name</th>\n",
       "      <th>team_city</th>\n",
       "      <th>team_state</th>\n",
       "      <th>team_dist_from_home</th>\n",
       "      <th>opp_team_id</th>\n",
       "      <th>...</th>\n",
       "      <th>opp_blks</th>\n",
       "      <th>opp_pfs</th>\n",
       "      <th>opp_poss</th>\n",
       "      <th>opp_elo_before_game</th>\n",
       "      <th>opp_elo_after_game</th>\n",
       "      <th>opp_elo_win_prob</th>\n",
       "      <th>team_off_eff</th>\n",
       "      <th>team_def_eff</th>\n",
       "      <th>opp_off_eff</th>\n",
       "      <th>opp_def_eff</th>\n",
       "    </tr>\n",
       "  </thead>\n",
       "  <tbody>\n",
       "    <tr>\n",
       "      <td>0</td>\n",
       "      <td>2003_2002-12-16_1337_1350</td>\n",
       "      <td>2003</td>\n",
       "      <td>42</td>\n",
       "      <td>2002-12-16</td>\n",
       "      <td>1337</td>\n",
       "      <td>Pepperdine</td>\n",
       "      <td>Malibu</td>\n",
       "      <td>CA</td>\n",
       "      <td></td>\n",
       "      <td>1350</td>\n",
       "      <td>...</td>\n",
       "      <td>4</td>\n",
       "      <td>24</td>\n",
       "      <td>55</td>\n",
       "      <td>709.824755</td>\n",
       "      <td>697.340523</td>\n",
       "      <td>0.520176</td>\n",
       "      <td>107.792208</td>\n",
       "      <td>100.000000</td>\n",
       "      <td>100.000000</td>\n",
       "      <td>107.792208</td>\n",
       "    </tr>\n",
       "    <tr>\n",
       "      <td>1</td>\n",
       "      <td>2003_2002-12-16_1337_1350</td>\n",
       "      <td>2003</td>\n",
       "      <td>42</td>\n",
       "      <td>2002-12-16</td>\n",
       "      <td>1350</td>\n",
       "      <td>Richmond</td>\n",
       "      <td>Richmond</td>\n",
       "      <td>VA</td>\n",
       "      <td></td>\n",
       "      <td>1337</td>\n",
       "      <td>...</td>\n",
       "      <td>2</td>\n",
       "      <td>18</td>\n",
       "      <td>58</td>\n",
       "      <td>704.564412</td>\n",
       "      <td>717.048645</td>\n",
       "      <td>0.479824</td>\n",
       "      <td>100.000000</td>\n",
       "      <td>107.792208</td>\n",
       "      <td>107.792208</td>\n",
       "      <td>100.000000</td>\n",
       "    </tr>\n",
       "    <tr>\n",
       "      <td>2</td>\n",
       "      <td>2003_2002-12-17_1153_1332</td>\n",
       "      <td>2003</td>\n",
       "      <td>43</td>\n",
       "      <td>2002-12-17</td>\n",
       "      <td>1153</td>\n",
       "      <td>Cincinnati</td>\n",
       "      <td>Cincinnati</td>\n",
       "      <td>OH</td>\n",
       "      <td></td>\n",
       "      <td>1332</td>\n",
       "      <td>...</td>\n",
       "      <td>1</td>\n",
       "      <td>17</td>\n",
       "      <td>53</td>\n",
       "      <td>760.028215</td>\n",
       "      <td>744.627167</td>\n",
       "      <td>0.641710</td>\n",
       "      <td>101.315789</td>\n",
       "      <td>68.421053</td>\n",
       "      <td>68.421053</td>\n",
       "      <td>101.315789</td>\n",
       "    </tr>\n",
       "    <tr>\n",
       "      <td>3</td>\n",
       "      <td>2003_2002-12-17_1153_1332</td>\n",
       "      <td>2003</td>\n",
       "      <td>43</td>\n",
       "      <td>2002-12-17</td>\n",
       "      <td>1332</td>\n",
       "      <td>Oregon</td>\n",
       "      <td>Eugene</td>\n",
       "      <td>OR</td>\n",
       "      <td></td>\n",
       "      <td>1153</td>\n",
       "      <td>...</td>\n",
       "      <td>2</td>\n",
       "      <td>16</td>\n",
       "      <td>61</td>\n",
       "      <td>722.062511</td>\n",
       "      <td>737.463558</td>\n",
       "      <td>0.358290</td>\n",
       "      <td>68.421053</td>\n",
       "      <td>101.315789</td>\n",
       "      <td>101.315789</td>\n",
       "      <td>68.421053</td>\n",
       "    </tr>\n",
       "    <tr>\n",
       "      <td>4</td>\n",
       "      <td>2003_2002-12-17_1257_1184</td>\n",
       "      <td>2003</td>\n",
       "      <td>43</td>\n",
       "      <td>2002-12-17</td>\n",
       "      <td>1184</td>\n",
       "      <td>E Kentucky</td>\n",
       "      <td>Richmond</td>\n",
       "      <td>KY</td>\n",
       "      <td></td>\n",
       "      <td>1257</td>\n",
       "      <td>...</td>\n",
       "      <td>6</td>\n",
       "      <td>17</td>\n",
       "      <td>57</td>\n",
       "      <td>725.007502</td>\n",
       "      <td>734.190077</td>\n",
       "      <td>0.617393</td>\n",
       "      <td>84.000000</td>\n",
       "      <td>138.666667</td>\n",
       "      <td>138.666667</td>\n",
       "      <td>84.000000</td>\n",
       "    </tr>\n",
       "  </tbody>\n",
       "</table>\n",
       "<p>5 rows × 57 columns</p>\n",
       "</div>"
      ],
      "text/plain": [
       "                       game_id  season  day_num          date  team_id  \\\n",
       "0   2003_2002-12-16_1337_1350     2003       42   2002-12-16      1337   \n",
       "1   2003_2002-12-16_1337_1350     2003       42   2002-12-16      1350   \n",
       "2   2003_2002-12-17_1153_1332     2003       43   2002-12-17      1153   \n",
       "3   2003_2002-12-17_1153_1332     2003       43   2002-12-17      1332   \n",
       "4   2003_2002-12-17_1257_1184     2003       43   2002-12-17      1184   \n",
       "\n",
       "              team_name           team_city    team_state  \\\n",
       "0   Pepperdine            Malibu              CA            \n",
       "1   Richmond              Richmond            VA            \n",
       "2   Cincinnati            Cincinnati          OH            \n",
       "3   Oregon                Eugene              OR            \n",
       "4   E Kentucky            Richmond            KY            \n",
       "\n",
       "     team_dist_from_home  opp_team_id  ... opp_blks opp_pfs opp_poss  \\\n",
       "0                                1350  ...        4      24       55   \n",
       "1                                1337  ...        2      18       58   \n",
       "2                                1332  ...        1      17       53   \n",
       "3                                1153  ...        2      16       61   \n",
       "4                                1257  ...        6      17       57   \n",
       "\n",
       "  opp_elo_before_game  opp_elo_after_game  opp_elo_win_prob team_off_eff  \\\n",
       "0          709.824755          697.340523          0.520176   107.792208   \n",
       "1          704.564412          717.048645          0.479824   100.000000   \n",
       "2          760.028215          744.627167          0.641710   101.315789   \n",
       "3          722.062511          737.463558          0.358290    68.421053   \n",
       "4          725.007502          734.190077          0.617393    84.000000   \n",
       "\n",
       "   team_def_eff  opp_off_eff  opp_def_eff  \n",
       "0    100.000000   100.000000   107.792208  \n",
       "1    107.792208   107.792208   100.000000  \n",
       "2     68.421053    68.421053   101.315789  \n",
       "3    101.315789   101.315789    68.421053  \n",
       "4    138.666667   138.666667    84.000000  \n",
       "\n",
       "[5 rows x 57 columns]"
      ]
     },
     "execution_count": 3,
     "metadata": {},
     "output_type": "execute_result"
    }
   ],
   "source": [
    "### preview data\n",
    "df.head()"
   ]
  },
  {
   "cell_type": "code",
   "execution_count": 4,
   "metadata": {},
   "outputs": [
    {
     "name": "stdout",
     "output_type": "stream",
     "text": [
      "<class 'pandas.core.frame.DataFrame'>\n",
      "RangeIndex: 184940 entries, 0 to 184939\n",
      "Data columns (total 57 columns):\n",
      "game_id                 184940 non-null object\n",
      "season                  184940 non-null int64\n",
      "day_num                 184940 non-null int64\n",
      "date                    184940 non-null object\n",
      "team_id                 184940 non-null int64\n",
      "team_name               184940 non-null object\n",
      "team_city               184940 non-null object\n",
      "team_state              184940 non-null object\n",
      "team_dist_from_home     184940 non-null object\n",
      "opp_team_id             184940 non-null int64\n",
      "opp_team_name           184940 non-null object\n",
      "opp_team_city           184940 non-null object\n",
      "opp_team_state          184940 non-null object\n",
      "opp_dist_from_home      184940 non-null object\n",
      "team_win                184940 non-null int64\n",
      "score_difference        184940 non-null int64\n",
      "team_location           184940 non-null object\n",
      "team_score              184940 non-null int64\n",
      "team_fgm                184940 non-null int64\n",
      "team_fga                184940 non-null int64\n",
      "team_3pm                184940 non-null int64\n",
      "team_3pa                184940 non-null int64\n",
      "team_ftm                184940 non-null int64\n",
      "team_fta                184940 non-null int64\n",
      "team_off_rebs           184940 non-null int64\n",
      "team_def_rebs           184940 non-null int64\n",
      "team_asts               184940 non-null int64\n",
      "team_tos                184940 non-null int64\n",
      "team_stls               184940 non-null int64\n",
      "team_blks               184940 non-null int64\n",
      "team_pfs                184940 non-null int64\n",
      "team_poss               184940 non-null int64\n",
      "team_elo_before_game    184940 non-null float64\n",
      "team_elo_after_game     184940 non-null float64\n",
      "team_elo_win_prob       184940 non-null float64\n",
      "opp_score               184940 non-null int64\n",
      "opp_fgm                 184940 non-null int64\n",
      "opp_fga                 184940 non-null int64\n",
      "opp_3pm                 184940 non-null int64\n",
      "opp_3pa                 184940 non-null int64\n",
      "opp_ftm                 184940 non-null int64\n",
      "opp_fta                 184940 non-null int64\n",
      "opp_off_rebs            184940 non-null int64\n",
      "opp_def_rebs            184940 non-null int64\n",
      "opp_asts                184940 non-null int64\n",
      "opp_tos                 184940 non-null int64\n",
      "opp_stls                184940 non-null int64\n",
      "opp_blks                184940 non-null int64\n",
      "opp_pfs                 184940 non-null int64\n",
      "opp_poss                184940 non-null int64\n",
      "opp_elo_before_game     184940 non-null float64\n",
      "opp_elo_after_game      184940 non-null float64\n",
      "opp_elo_win_prob        184940 non-null float64\n",
      "team_off_eff            184940 non-null float64\n",
      "team_def_eff            184940 non-null float64\n",
      "opp_off_eff             184940 non-null float64\n",
      "opp_def_eff             184940 non-null float64\n",
      "dtypes: float64(10), int64(36), object(11)\n",
      "memory usage: 80.4+ MB\n"
     ]
    }
   ],
   "source": [
    "### look at data types and check for nulls\n",
    "df.info()"
   ]
  },
  {
   "cell_type": "code",
   "execution_count": 119,
   "metadata": {},
   "outputs": [
    {
     "data": {
      "text/plain": [
       "count    184940.000000\n",
       "mean        704.889304\n",
       "std         100.003518\n",
       "min         375.693583\n",
       "25%         632.638261\n",
       "50%         698.986028\n",
       "75%         774.366910\n",
       "max        1006.036053\n",
       "Name: team_elo_before_game, dtype: float64"
      ]
     },
     "execution_count": 119,
     "metadata": {},
     "output_type": "execute_result"
    }
   ],
   "source": [
    "df['team_elo_before_game'].describe()"
   ]
  },
  {
   "cell_type": "markdown",
   "metadata": {},
   "source": [
    "No null values. Most data is numeric form. Some are strings (location, game-id, etc.). Some could be converted to numeric possibly, such as 'team_dist_from_home'.\n",
    "\n",
    "Our target is going to be 'team_win'. It takes values 0 or 1."
   ]
  },
  {
   "cell_type": "code",
   "execution_count": 5,
   "metadata": {},
   "outputs": [
    {
     "data": {
      "text/plain": [
       "0         1\n",
       "1         0\n",
       "2         1\n",
       "3         0\n",
       "4         0\n",
       "         ..\n",
       "184935    1\n",
       "184936    0\n",
       "184937    1\n",
       "184938    0\n",
       "184939    1\n",
       "Name: team_win, Length: 184940, dtype: int64"
      ]
     },
     "execution_count": 5,
     "metadata": {},
     "output_type": "execute_result"
    }
   ],
   "source": [
    "df['team_win']"
   ]
  },
  {
   "cell_type": "markdown",
   "metadata": {},
   "source": [
    "Transform date column to datetime format"
   ]
  },
  {
   "cell_type": "code",
   "execution_count": 6,
   "metadata": {},
   "outputs": [],
   "source": [
    "df['date'] = pd.to_datetime(df['date'])"
   ]
  },
  {
   "cell_type": "code",
   "execution_count": 7,
   "metadata": {},
   "outputs": [
    {
     "data": {
      "text/html": [
       "<div>\n",
       "<style scoped>\n",
       "    .dataframe tbody tr th:only-of-type {\n",
       "        vertical-align: middle;\n",
       "    }\n",
       "\n",
       "    .dataframe tbody tr th {\n",
       "        vertical-align: top;\n",
       "    }\n",
       "\n",
       "    .dataframe thead th {\n",
       "        text-align: right;\n",
       "    }\n",
       "</style>\n",
       "<table border=\"1\" class=\"dataframe\">\n",
       "  <thead>\n",
       "    <tr style=\"text-align: right;\">\n",
       "      <th></th>\n",
       "      <th>team_elo_win_prob</th>\n",
       "      <th>opp_elo_win_prob</th>\n",
       "    </tr>\n",
       "  </thead>\n",
       "  <tbody>\n",
       "    <tr>\n",
       "      <td>0</td>\n",
       "      <td>0.479824</td>\n",
       "      <td>0.520176</td>\n",
       "    </tr>\n",
       "    <tr>\n",
       "      <td>1</td>\n",
       "      <td>0.520176</td>\n",
       "      <td>0.479824</td>\n",
       "    </tr>\n",
       "    <tr>\n",
       "      <td>2</td>\n",
       "      <td>0.358290</td>\n",
       "      <td>0.641710</td>\n",
       "    </tr>\n",
       "    <tr>\n",
       "      <td>3</td>\n",
       "      <td>0.641710</td>\n",
       "      <td>0.358290</td>\n",
       "    </tr>\n",
       "    <tr>\n",
       "      <td>4</td>\n",
       "      <td>0.382607</td>\n",
       "      <td>0.617393</td>\n",
       "    </tr>\n",
       "    <tr>\n",
       "      <td>...</td>\n",
       "      <td>...</td>\n",
       "      <td>...</td>\n",
       "    </tr>\n",
       "    <tr>\n",
       "      <td>184935</td>\n",
       "      <td>0.550405</td>\n",
       "      <td>0.449595</td>\n",
       "    </tr>\n",
       "    <tr>\n",
       "      <td>184936</td>\n",
       "      <td>0.570711</td>\n",
       "      <td>0.429289</td>\n",
       "    </tr>\n",
       "    <tr>\n",
       "      <td>184937</td>\n",
       "      <td>0.429289</td>\n",
       "      <td>0.570711</td>\n",
       "    </tr>\n",
       "    <tr>\n",
       "      <td>184938</td>\n",
       "      <td>0.338445</td>\n",
       "      <td>0.661555</td>\n",
       "    </tr>\n",
       "    <tr>\n",
       "      <td>184939</td>\n",
       "      <td>0.661555</td>\n",
       "      <td>0.338445</td>\n",
       "    </tr>\n",
       "  </tbody>\n",
       "</table>\n",
       "<p>184940 rows × 2 columns</p>\n",
       "</div>"
      ],
      "text/plain": [
       "        team_elo_win_prob  opp_elo_win_prob\n",
       "0                0.479824          0.520176\n",
       "1                0.520176          0.479824\n",
       "2                0.358290          0.641710\n",
       "3                0.641710          0.358290\n",
       "4                0.382607          0.617393\n",
       "...                   ...               ...\n",
       "184935           0.550405          0.449595\n",
       "184936           0.570711          0.429289\n",
       "184937           0.429289          0.570711\n",
       "184938           0.338445          0.661555\n",
       "184939           0.661555          0.338445\n",
       "\n",
       "[184940 rows x 2 columns]"
      ]
     },
     "execution_count": 7,
     "metadata": {},
     "output_type": "execute_result"
    }
   ],
   "source": [
    "### checking that the ELO win probabilities sum to 1\n",
    "df[['team_elo_win_prob', 'opp_elo_win_prob']]"
   ]
  },
  {
   "cell_type": "code",
   "execution_count": 8,
   "metadata": {},
   "outputs": [
    {
     "name": "stdout",
     "output_type": "stream",
     "text": [
      "0.9999999999999989\n",
      "1.000000000000001\n"
     ]
    }
   ],
   "source": [
    "comb = df['team_elo_win_prob'] + df['opp_elo_win_prob']\n",
    "print(comb.min())\n",
    "print(comb.max())"
   ]
  },
  {
   "cell_type": "markdown",
   "metadata": {},
   "source": [
    "OK, so the sums are all very close to 1, and the two columns make sense.\n",
    "\n",
    "How many unique teams are there?"
   ]
  },
  {
   "cell_type": "code",
   "execution_count": 9,
   "metadata": {},
   "outputs": [
    {
     "name": "stdout",
     "output_type": "stream",
     "text": [
      "Number of teams:  360\n"
     ]
    }
   ],
   "source": [
    "n_teams = len(df.team_id.unique())\n",
    "print(\"Number of teams: \", n_teams)"
   ]
  },
  {
   "cell_type": "markdown",
   "metadata": {},
   "source": [
    "How many matches did each team play?"
   ]
  },
  {
   "cell_type": "code",
   "execution_count": 52,
   "metadata": {},
   "outputs": [
    {
     "name": "stdout",
     "output_type": "stream",
     "text": [
      "count    360.000000\n",
      "mean     513.722222\n",
      "std       93.353138\n",
      "min        1.000000\n",
      "25%      514.000000\n",
      "50%      538.000000\n",
      "75%      557.000000\n",
      "max      586.000000\n",
      "Name: game_id, dtype: float64\n"
     ]
    },
    {
     "data": {
      "text/plain": [
       "{'whiskers': [<matplotlib.lines.Line2D at 0x13e7fc278>,\n",
       "  <matplotlib.lines.Line2D at 0x13e7fc390>],\n",
       " 'caps': [<matplotlib.lines.Line2D at 0x13e48e550>,\n",
       "  <matplotlib.lines.Line2D at 0x13e48e780>],\n",
       " 'boxes': [<matplotlib.lines.Line2D at 0x13e7fc128>],\n",
       " 'medians': [<matplotlib.lines.Line2D at 0x13e48e080>],\n",
       " 'fliers': [<matplotlib.lines.Line2D at 0x13e48e2b0>],\n",
       " 'means': []}"
      ]
     },
     "execution_count": 52,
     "metadata": {},
     "output_type": "execute_result"
    },
    {
     "data": {
      "image/png": "[encoded data removed]",
      "text/plain": [
       "<Figure size 432x288 with 1 Axes>"
      ]
     },
     "metadata": {
      "needs_background": "light"
     },
     "output_type": "display_data"
    }
   ],
   "source": [
    "team_appearances = df.groupby('team_id').count().iloc[:,0]\n",
    "print(team_appearances.describe())\n",
    "plt.boxplot(team_appearances)"
   ]
  },
  {
   "cell_type": "code",
   "execution_count": 57,
   "metadata": {},
   "outputs": [
    {
     "name": "stdout",
     "output_type": "stream",
     "text": [
      "count     17.000000\n",
      "mean     150.000000\n",
      "std      107.195499\n",
      "min        1.000000\n",
      "25%       57.000000\n",
      "50%      168.000000\n",
      "75%      233.000000\n",
      "max      327.000000\n",
      "Name: game_id, dtype: float64\n"
     ]
    }
   ],
   "source": [
    "# how many lower outliers are there 2 std devs from the mean? \n",
    "# There are no upper outliers, since the max is less than a standard deviation from the mean\n",
    "\n",
    "sdv = team_appearances.std()\n",
    "mean = team_appearances.mean()\n",
    "low_range = mean - 2*sdv\n",
    "\n",
    "lower_outliers = team_appearances[team_appearances < low_range]\n",
    "\n",
    "print(lower_outliers.describe())\n"
   ]
  },
  {
   "cell_type": "markdown",
   "metadata": {},
   "source": [
    "17 teams who have relatively low appearances. Will that effect outcomes?\n",
    "\n",
    "There will be less data on these teams, and greater uncertainty about their performances.\n",
    "\n",
    "Unless it's possible to predict how a team plays based on number of appearances in Division I?"
   ]
  },
  {
   "cell_type": "code",
   "execution_count": 11,
   "metadata": {},
   "outputs": [
    {
     "data": {
      "text/plain": [
       "(array([  5.,   3.,   1.,   4.,   2.,   5.,   8.,   9., 103., 220.]),\n",
       " array([  1. ,  59.5, 118. , 176.5, 235. , 293.5, 352. , 410.5, 469. ,\n",
       "        527.5, 586. ]),\n",
       " <a list of 10 Patch objects>)"
      ]
     },
     "execution_count": 11,
     "metadata": {},
     "output_type": "execute_result"
    },
    {
     "data": {
      "image/png": "[encoded data removed]",
      "text/plain": [
       "<Figure size 432x288 with 1 Axes>"
      ]
     },
     "metadata": {
      "needs_background": "light"
     },
     "output_type": "display_data"
    }
   ],
   "source": [
    "# another view\n",
    "plt.hist(team_appearances)"
   ]
  },
  {
   "cell_type": "markdown",
   "metadata": {},
   "source": [
    "How can we see a teams record at the time of a match? \n",
    "Have to access both the TeamID and the Opposing TeamID"
   ]
  },
  {
   "cell_type": "code",
   "execution_count": 12,
   "metadata": {},
   "outputs": [
    {
     "data": {
      "text/plain": [
       "team_name\n",
       " Abilene Chr             78\n",
       " Air Force              243\n",
       " Akron                  364\n",
       " Alabama                324\n",
       " Alabama A&M            151\n",
       "                       ... \n",
       " Wright St              309\n",
       " Wyoming                252\n",
       " Xavier                 401\n",
       " Yale                   270\n",
       " Youngstown St          148\n",
       "Name: team_win, Length: 360, dtype: int64"
      ]
     },
     "execution_count": 12,
     "metadata": {},
     "output_type": "execute_result"
    }
   ],
   "source": [
    "wins = df.groupby('team_name').agg(sum)['team_win']\n",
    "wins"
   ]
  },
  {
   "cell_type": "code",
   "execution_count": 13,
   "metadata": {},
   "outputs": [
    {
     "data": {
      "text/plain": [
       "team_name\n",
       " Abilene Chr            106\n",
       " Air Force              278\n",
       " Akron                  198\n",
       " Alabama                238\n",
       " Alabama A&M            340\n",
       "                       ... \n",
       " Wright St              236\n",
       " Wyoming                285\n",
       " Xavier                 175\n",
       " Yale                   228\n",
       " Youngstown St          337\n",
       "Name: game_id, Length: 360, dtype: int64"
      ]
     },
     "execution_count": 13,
     "metadata": {},
     "output_type": "execute_result"
    }
   ],
   "source": [
    "losses = df[df['team_win'] == 0].groupby('team_name').count().iloc[:,0]\n",
    "losses"
   ]
  },
  {
   "cell_type": "code",
   "execution_count": 14,
   "metadata": {},
   "outputs": [
    {
     "data": {
      "text/html": [
       "<div>\n",
       "<style scoped>\n",
       "    .dataframe tbody tr th:only-of-type {\n",
       "        vertical-align: middle;\n",
       "    }\n",
       "\n",
       "    .dataframe tbody tr th {\n",
       "        vertical-align: top;\n",
       "    }\n",
       "\n",
       "    .dataframe thead th {\n",
       "        text-align: right;\n",
       "    }\n",
       "</style>\n",
       "<table border=\"1\" class=\"dataframe\">\n",
       "  <thead>\n",
       "    <tr style=\"text-align: right;\">\n",
       "      <th></th>\n",
       "      <th>wins</th>\n",
       "      <th>losses</th>\n",
       "      <th>w/l_ratio</th>\n",
       "    </tr>\n",
       "    <tr>\n",
       "      <th>team_name</th>\n",
       "      <th></th>\n",
       "      <th></th>\n",
       "      <th></th>\n",
       "    </tr>\n",
       "  </thead>\n",
       "  <tbody>\n",
       "    <tr>\n",
       "      <td>Abilene Chr</td>\n",
       "      <td>78</td>\n",
       "      <td>106</td>\n",
       "      <td>0.423913</td>\n",
       "    </tr>\n",
       "    <tr>\n",
       "      <td>Air Force</td>\n",
       "      <td>243</td>\n",
       "      <td>278</td>\n",
       "      <td>0.466411</td>\n",
       "    </tr>\n",
       "    <tr>\n",
       "      <td>Akron</td>\n",
       "      <td>364</td>\n",
       "      <td>198</td>\n",
       "      <td>0.647687</td>\n",
       "    </tr>\n",
       "    <tr>\n",
       "      <td>Alabama</td>\n",
       "      <td>324</td>\n",
       "      <td>238</td>\n",
       "      <td>0.576512</td>\n",
       "    </tr>\n",
       "    <tr>\n",
       "      <td>Alabama A&amp;M</td>\n",
       "      <td>151</td>\n",
       "      <td>340</td>\n",
       "      <td>0.307536</td>\n",
       "    </tr>\n",
       "  </tbody>\n",
       "</table>\n",
       "</div>"
      ],
      "text/plain": [
       "                      wins  losses  w/l_ratio\n",
       "team_name                                    \n",
       " Abilene Chr            78     106   0.423913\n",
       " Air Force             243     278   0.466411\n",
       " Akron                 364     198   0.647687\n",
       " Alabama               324     238   0.576512\n",
       " Alabama A&M           151     340   0.307536"
      ]
     },
     "execution_count": 14,
     "metadata": {},
     "output_type": "execute_result"
    }
   ],
   "source": [
    "records = pd.DataFrame({\"wins\": wins, \"losses\": losses})\n",
    "records['w/l_ratio'] = records['wins'] / (records['wins'] + records['losses'])\n",
    "records.head()"
   ]
  },
  {
   "cell_type": "markdown",
   "metadata": {},
   "source": [
    "Cleaning the strings"
   ]
  },
  {
   "cell_type": "code",
   "execution_count": 101,
   "metadata": {},
   "outputs": [],
   "source": [
    "df = df.applymap(lambda x:  x.strip() if isinstance(x, str) else x)"
   ]
  },
  {
   "cell_type": "code",
   "execution_count": 108,
   "metadata": {},
   "outputs": [
    {
     "data": {
      "text/plain": [
       "15962        0\n",
       "15963       40\n",
       "15964        0\n",
       "15965     1005\n",
       "15966      116\n",
       "          ... \n",
       "184709     630\n",
       "184710     107\n",
       "184711     465\n",
       "184712     204\n",
       "184713       0\n",
       "Name: team_dist_from_home, Length: 53196, dtype: object"
      ]
     },
     "execution_count": 108,
     "metadata": {},
     "output_type": "execute_result"
    }
   ],
   "source": [
    "df.team_dist_from_home[df.team_dist_from_home != '']"
   ]
  },
  {
   "cell_type": "code",
   "execution_count": 111,
   "metadata": {},
   "outputs": [],
   "source": [
    "df['team_dfh'] = df['team_dist_from_home'].apply(lambda s: int(s) if s !='' else None)"
   ]
  },
  {
   "cell_type": "code",
   "execution_count": 97,
   "metadata": {},
   "outputs": [],
   "source": [
    "### turning into numeric\n",
    "df['team_dist_from_home_2'] = "
   ]
  },
  {
   "cell_type": "code",
   "execution_count": 19,
   "metadata": {},
   "outputs": [
    {
     "data": {
      "text/plain": [
       "0        2002-12-16\n",
       "1        2002-12-16\n",
       "2        2002-12-17\n",
       "3        2002-12-17\n",
       "4        2002-12-17\n",
       "            ...    \n",
       "184935   2002-12-15\n",
       "184936   2002-12-15\n",
       "184937   2002-12-15\n",
       "184938   2002-12-15\n",
       "184939   2002-12-15\n",
       "Name: date, Length: 184940, dtype: datetime64[ns]"
      ]
     },
     "execution_count": 19,
     "metadata": {},
     "output_type": "execute_result"
    }
   ],
   "source": [
    "df.date"
   ]
  },
  {
   "cell_type": "code",
   "execution_count": 20,
   "metadata": {
    "scrolled": false
   },
   "outputs": [
    {
     "data": {
      "text/plain": [
       "0        2002-11-14\n",
       "1        2002-11-14\n",
       "2        2002-11-14\n",
       "3        2002-11-14\n",
       "4        2002-11-15\n",
       "            ...    \n",
       "184935   2020-03-11\n",
       "184936   2020-03-11\n",
       "184937   2020-03-11\n",
       "184938   2020-03-11\n",
       "184939   2020-03-11\n",
       "Name: date, Length: 184940, dtype: datetime64[ns]"
      ]
     },
     "execution_count": 20,
     "metadata": {},
     "output_type": "execute_result"
    }
   ],
   "source": [
    "dfByDate = df.sort_values(by='date').reset_index()\n",
    "dfByDate.date"
   ]
  },
  {
   "cell_type": "code",
   "execution_count": 21,
   "metadata": {},
   "outputs": [],
   "source": [
    "dfByDate.to_csv('clean_vizathon.csv')"
   ]
  },
  {
   "cell_type": "code",
   "execution_count": 22,
   "metadata": {},
   "outputs": [
    {
     "name": "stderr",
     "output_type": "stream",
     "text": [
      "/Users/jared/anaconda3/lib/python3.7/site-packages/pandas/plotting/_matplotlib/converter.py:103: FutureWarning: Using an implicitly registered datetime converter for a matplotlib plotting method. The converter was registered by pandas on import. Future versions of pandas will require you to explicitly register matplotlib converters.\n",
      "\n",
      "To register the converters:\n",
      "\t>>> from pandas.plotting import register_matplotlib_converters\n",
      "\t>>> register_matplotlib_converters()\n",
      "  warnings.warn(msg, FutureWarning)\n"
     ]
    },
    {
     "data": {
      "text/plain": [
       "[<matplotlib.lines.Line2D at 0x12b4f3630>]"
      ]
     },
     "execution_count": 22,
     "metadata": {},
     "output_type": "execute_result"
    },
    {
     "data": {
      "image/png": "[encoded data removed]",
      "text/plain": [
       "<Figure size 432x288 with 1 Axes>"
      ]
     },
     "metadata": {
      "needs_background": "light"
     },
     "output_type": "display_data"
    }
   ],
   "source": [
    "plt.plot(dfByDate.date)"
   ]
  },
  {
   "cell_type": "code",
   "execution_count": null,
   "metadata": {},
   "outputs": [],
   "source": []
  },
  {
   "cell_type": "code",
   "execution_count": 23,
   "metadata": {},
   "outputs": [
    {
     "data": {
      "text/html": [
       "<div>\n",
       "<style scoped>\n",
       "    .dataframe tbody tr th:only-of-type {\n",
       "        vertical-align: middle;\n",
       "    }\n",
       "\n",
       "    .dataframe tbody tr th {\n",
       "        vertical-align: top;\n",
       "    }\n",
       "\n",
       "    .dataframe thead th {\n",
       "        text-align: right;\n",
       "    }\n",
       "</style>\n",
       "<table border=\"1\" class=\"dataframe\">\n",
       "  <thead>\n",
       "    <tr style=\"text-align: right;\">\n",
       "      <th></th>\n",
       "      <th>game_id</th>\n",
       "      <th>team_name</th>\n",
       "      <th>opp_team_name</th>\n",
       "      <th>team_win</th>\n",
       "      <th>team_elo_before_game</th>\n",
       "      <th>team_elo_after_game</th>\n",
       "      <th>team_elo_win_prob</th>\n",
       "      <th>opp_elo_before_game</th>\n",
       "      <th>opp_elo_after_game</th>\n",
       "      <th>opp_elo_win_prob</th>\n",
       "    </tr>\n",
       "  </thead>\n",
       "  <tbody>\n",
       "    <tr>\n",
       "      <td>184925</td>\n",
       "      <td>2020_2020-03-11_1143_1390</td>\n",
       "      <td>California</td>\n",
       "      <td>Stanford</td>\n",
       "      <td>1</td>\n",
       "      <td>758.804377</td>\n",
       "      <td>774.464686</td>\n",
       "      <td>0.347487</td>\n",
       "      <td>799.851929</td>\n",
       "      <td>784.191620</td>\n",
       "      <td>0.652513</td>\n",
       "    </tr>\n",
       "    <tr>\n",
       "      <td>184926</td>\n",
       "      <td>2020_2020-03-11_1389_1233</td>\n",
       "      <td>Iona</td>\n",
       "      <td>St Peter's</td>\n",
       "      <td>0</td>\n",
       "      <td>642.471698</td>\n",
       "      <td>634.291292</td>\n",
       "      <td>0.340850</td>\n",
       "      <td>685.434774</td>\n",
       "      <td>693.615180</td>\n",
       "      <td>0.659150</td>\n",
       "    </tr>\n",
       "    <tr>\n",
       "      <td>184927</td>\n",
       "      <td>2020_2020-03-11_1381_1225</td>\n",
       "      <td>Idaho</td>\n",
       "      <td>Southern Utah</td>\n",
       "      <td>0</td>\n",
       "      <td>559.859998</td>\n",
       "      <td>554.686896</td>\n",
       "      <td>0.215546</td>\n",
       "      <td>644.014168</td>\n",
       "      <td>649.187269</td>\n",
       "      <td>0.784454</td>\n",
       "    </tr>\n",
       "    <tr>\n",
       "      <td>184928</td>\n",
       "      <td>2020_2020-03-11_1333_1428</td>\n",
       "      <td>Utah</td>\n",
       "      <td>Oregon St</td>\n",
       "      <td>0</td>\n",
       "      <td>790.247175</td>\n",
       "      <td>778.991617</td>\n",
       "      <td>0.468982</td>\n",
       "      <td>798.340247</td>\n",
       "      <td>809.595804</td>\n",
       "      <td>0.531018</td>\n",
       "    </tr>\n",
       "    <tr>\n",
       "      <td>184929</td>\n",
       "      <td>2020_2020-03-11_1333_1428</td>\n",
       "      <td>Oregon St</td>\n",
       "      <td>Utah</td>\n",
       "      <td>1</td>\n",
       "      <td>798.340247</td>\n",
       "      <td>809.595804</td>\n",
       "      <td>0.531018</td>\n",
       "      <td>790.247175</td>\n",
       "      <td>778.991617</td>\n",
       "      <td>0.468982</td>\n",
       "    </tr>\n",
       "    <tr>\n",
       "      <td>184930</td>\n",
       "      <td>2020_2020-03-11_1329_1235</td>\n",
       "      <td>Oklahoma St</td>\n",
       "      <td>Iowa St</td>\n",
       "      <td>1</td>\n",
       "      <td>865.022657</td>\n",
       "      <td>870.630300</td>\n",
       "      <td>0.766348</td>\n",
       "      <td>787.644108</td>\n",
       "      <td>782.036465</td>\n",
       "      <td>0.233652</td>\n",
       "    </tr>\n",
       "    <tr>\n",
       "      <td>184931</td>\n",
       "      <td>2020_2020-03-11_1329_1235</td>\n",
       "      <td>Iowa St</td>\n",
       "      <td>Oklahoma St</td>\n",
       "      <td>0</td>\n",
       "      <td>787.644108</td>\n",
       "      <td>782.036465</td>\n",
       "      <td>0.233652</td>\n",
       "      <td>865.022657</td>\n",
       "      <td>870.630300</td>\n",
       "      <td>0.766348</td>\n",
       "    </tr>\n",
       "    <tr>\n",
       "      <td>184932</td>\n",
       "      <td>2020_2020-03-11_1231_1304</td>\n",
       "      <td>Nebraska</td>\n",
       "      <td>Indiana</td>\n",
       "      <td>0</td>\n",
       "      <td>697.674950</td>\n",
       "      <td>695.015751</td>\n",
       "      <td>0.110800</td>\n",
       "      <td>833.343926</td>\n",
       "      <td>836.003125</td>\n",
       "      <td>0.889200</td>\n",
       "    </tr>\n",
       "    <tr>\n",
       "      <td>184933</td>\n",
       "      <td>2020_2020-03-11_1231_1304</td>\n",
       "      <td>Indiana</td>\n",
       "      <td>Nebraska</td>\n",
       "      <td>1</td>\n",
       "      <td>833.343926</td>\n",
       "      <td>836.003125</td>\n",
       "      <td>0.889200</td>\n",
       "      <td>697.674950</td>\n",
       "      <td>695.015751</td>\n",
       "      <td>0.110800</td>\n",
       "    </tr>\n",
       "    <tr>\n",
       "      <td>184934</td>\n",
       "      <td>2020_2020-03-11_1155_1274</td>\n",
       "      <td>Miami FL</td>\n",
       "      <td>Clemson</td>\n",
       "      <td>0</td>\n",
       "      <td>816.444562</td>\n",
       "      <td>805.327466</td>\n",
       "      <td>0.463212</td>\n",
       "      <td>826.047930</td>\n",
       "      <td>837.165025</td>\n",
       "      <td>0.536788</td>\n",
       "    </tr>\n",
       "    <tr>\n",
       "      <td>184935</td>\n",
       "      <td>2020_2020-03-11_1385_1207</td>\n",
       "      <td>St John's</td>\n",
       "      <td>Georgetown</td>\n",
       "      <td>1</td>\n",
       "      <td>824.785236</td>\n",
       "      <td>834.351357</td>\n",
       "      <td>0.601412</td>\n",
       "      <td>797.988160</td>\n",
       "      <td>788.422039</td>\n",
       "      <td>0.398588</td>\n",
       "    </tr>\n",
       "    <tr>\n",
       "      <td>184936</td>\n",
       "      <td>2020_2020-03-11_1116_1435</td>\n",
       "      <td>Vanderbilt</td>\n",
       "      <td>Arkansas</td>\n",
       "      <td>0</td>\n",
       "      <td>742.387109</td>\n",
       "      <td>736.121970</td>\n",
       "      <td>0.261047</td>\n",
       "      <td>810.171674</td>\n",
       "      <td>816.436812</td>\n",
       "      <td>0.738953</td>\n",
       "    </tr>\n",
       "    <tr>\n",
       "      <td>184937</td>\n",
       "      <td>2020_2020-03-11_1116_1435</td>\n",
       "      <td>Arkansas</td>\n",
       "      <td>Vanderbilt</td>\n",
       "      <td>1</td>\n",
       "      <td>810.171674</td>\n",
       "      <td>816.436812</td>\n",
       "      <td>0.738953</td>\n",
       "      <td>742.387109</td>\n",
       "      <td>736.121970</td>\n",
       "      <td>0.261047</td>\n",
       "    </tr>\n",
       "    <tr>\n",
       "      <td>184938</td>\n",
       "      <td>2020_2020-03-11_1381_1225</td>\n",
       "      <td>Southern Utah</td>\n",
       "      <td>Idaho</td>\n",
       "      <td>1</td>\n",
       "      <td>644.014168</td>\n",
       "      <td>649.187269</td>\n",
       "      <td>0.784454</td>\n",
       "      <td>559.859998</td>\n",
       "      <td>554.686896</td>\n",
       "      <td>0.215546</td>\n",
       "    </tr>\n",
       "    <tr>\n",
       "      <td>184939</td>\n",
       "      <td>2020_2020-03-11_1393_1314</td>\n",
       "      <td>North Carolina</td>\n",
       "      <td>Syracuse</td>\n",
       "      <td>0</td>\n",
       "      <td>836.872636</td>\n",
       "      <td>823.394748</td>\n",
       "      <td>0.561579</td>\n",
       "      <td>820.744799</td>\n",
       "      <td>834.222687</td>\n",
       "      <td>0.438421</td>\n",
       "    </tr>\n",
       "  </tbody>\n",
       "</table>\n",
       "</div>"
      ],
      "text/plain": [
       "                          game_id       team_name  opp_team_name  team_win  \\\n",
       "184925  2020_2020-03-11_1143_1390      California       Stanford         1   \n",
       "184926  2020_2020-03-11_1389_1233            Iona     St Peter's         0   \n",
       "184927  2020_2020-03-11_1381_1225           Idaho  Southern Utah         0   \n",
       "184928  2020_2020-03-11_1333_1428            Utah      Oregon St         0   \n",
       "184929  2020_2020-03-11_1333_1428       Oregon St           Utah         1   \n",
       "184930  2020_2020-03-11_1329_1235     Oklahoma St        Iowa St         1   \n",
       "184931  2020_2020-03-11_1329_1235         Iowa St    Oklahoma St         0   \n",
       "184932  2020_2020-03-11_1231_1304        Nebraska        Indiana         0   \n",
       "184933  2020_2020-03-11_1231_1304         Indiana       Nebraska         1   \n",
       "184934  2020_2020-03-11_1155_1274        Miami FL        Clemson         0   \n",
       "184935  2020_2020-03-11_1385_1207       St John's     Georgetown         1   \n",
       "184936  2020_2020-03-11_1116_1435      Vanderbilt       Arkansas         0   \n",
       "184937  2020_2020-03-11_1116_1435        Arkansas     Vanderbilt         1   \n",
       "184938  2020_2020-03-11_1381_1225   Southern Utah          Idaho         1   \n",
       "184939  2020_2020-03-11_1393_1314  North Carolina       Syracuse         0   \n",
       "\n",
       "        team_elo_before_game  team_elo_after_game  team_elo_win_prob  \\\n",
       "184925            758.804377           774.464686           0.347487   \n",
       "184926            642.471698           634.291292           0.340850   \n",
       "184927            559.859998           554.686896           0.215546   \n",
       "184928            790.247175           778.991617           0.468982   \n",
       "184929            798.340247           809.595804           0.531018   \n",
       "184930            865.022657           870.630300           0.766348   \n",
       "184931            787.644108           782.036465           0.233652   \n",
       "184932            697.674950           695.015751           0.110800   \n",
       "184933            833.343926           836.003125           0.889200   \n",
       "184934            816.444562           805.327466           0.463212   \n",
       "184935            824.785236           834.351357           0.601412   \n",
       "184936            742.387109           736.121970           0.261047   \n",
       "184937            810.171674           816.436812           0.738953   \n",
       "184938            644.014168           649.187269           0.784454   \n",
       "184939            836.872636           823.394748           0.561579   \n",
       "\n",
       "        opp_elo_before_game  opp_elo_after_game  opp_elo_win_prob  \n",
       "184925           799.851929          784.191620          0.652513  \n",
       "184926           685.434774          693.615180          0.659150  \n",
       "184927           644.014168          649.187269          0.784454  \n",
       "184928           798.340247          809.595804          0.531018  \n",
       "184929           790.247175          778.991617          0.468982  \n",
       "184930           787.644108          782.036465          0.233652  \n",
       "184931           865.022657          870.630300          0.766348  \n",
       "184932           833.343926          836.003125          0.889200  \n",
       "184933           697.674950          695.015751          0.110800  \n",
       "184934           826.047930          837.165025          0.536788  \n",
       "184935           797.988160          788.422039          0.398588  \n",
       "184936           810.171674          816.436812          0.738953  \n",
       "184937           742.387109          736.121970          0.261047  \n",
       "184938           559.859998          554.686896          0.215546  \n",
       "184939           820.744799          834.222687          0.438421  "
      ]
     },
     "execution_count": 23,
     "metadata": {},
     "output_type": "execute_result"
    }
   ],
   "source": [
    "dfByDate[['game_id', 'team_name', 'opp_team_name', 'team_win','team_elo_before_game', 'team_elo_after_game', \n",
    "          'team_elo_win_prob','opp_elo_before_game','opp_elo_after_game','opp_elo_win_prob' ]].tail(15)"
   ]
  },
  {
   "cell_type": "code",
   "execution_count": 24,
   "metadata": {},
   "outputs": [
    {
     "data": {
      "text/html": [
       "<div>\n",
       "<style scoped>\n",
       "    .dataframe tbody tr th:only-of-type {\n",
       "        vertical-align: middle;\n",
       "    }\n",
       "\n",
       "    .dataframe tbody tr th {\n",
       "        vertical-align: top;\n",
       "    }\n",
       "\n",
       "    .dataframe thead th {\n",
       "        text-align: right;\n",
       "    }\n",
       "</style>\n",
       "<table border=\"1\" class=\"dataframe\">\n",
       "  <thead>\n",
       "    <tr style=\"text-align: right;\">\n",
       "      <th></th>\n",
       "      <th>index</th>\n",
       "      <th>game_id</th>\n",
       "      <th>season</th>\n",
       "      <th>day_num</th>\n",
       "      <th>date</th>\n",
       "      <th>team_id</th>\n",
       "      <th>team_name</th>\n",
       "      <th>team_city</th>\n",
       "      <th>team_state</th>\n",
       "      <th>team_dist_from_home</th>\n",
       "      <th>...</th>\n",
       "      <th>opp_blks</th>\n",
       "      <th>opp_pfs</th>\n",
       "      <th>opp_poss</th>\n",
       "      <th>opp_elo_before_game</th>\n",
       "      <th>opp_elo_after_game</th>\n",
       "      <th>opp_elo_win_prob</th>\n",
       "      <th>team_off_eff</th>\n",
       "      <th>team_def_eff</th>\n",
       "      <th>opp_off_eff</th>\n",
       "      <th>opp_def_eff</th>\n",
       "    </tr>\n",
       "  </thead>\n",
       "  <tbody>\n",
       "    <tr>\n",
       "      <td>184885</td>\n",
       "      <td>68788</td>\n",
       "      <td>2020_2020-03-11_1155_1274</td>\n",
       "      <td>2020</td>\n",
       "      <td>128</td>\n",
       "      <td>2020-03-11</td>\n",
       "      <td>1155</td>\n",
       "      <td>Clemson</td>\n",
       "      <td>Clemson</td>\n",
       "      <td>SC</td>\n",
       "      <td>197</td>\n",
       "      <td>...</td>\n",
       "      <td>3</td>\n",
       "      <td>16</td>\n",
       "      <td>68</td>\n",
       "      <td>816.444562</td>\n",
       "      <td>805.327466</td>\n",
       "      <td>0.463212</td>\n",
       "      <td>84.146341</td>\n",
       "      <td>78.048780</td>\n",
       "      <td>78.048780</td>\n",
       "      <td>84.146341</td>\n",
       "    </tr>\n",
       "    <tr>\n",
       "      <td>184934</td>\n",
       "      <td>68789</td>\n",
       "      <td>2020_2020-03-11_1155_1274</td>\n",
       "      <td>2020</td>\n",
       "      <td>128</td>\n",
       "      <td>2020-03-11</td>\n",
       "      <td>1274</td>\n",
       "      <td>Miami FL</td>\n",
       "      <td>Coral Gables</td>\n",
       "      <td>FL</td>\n",
       "      <td>714</td>\n",
       "      <td>...</td>\n",
       "      <td>1</td>\n",
       "      <td>10</td>\n",
       "      <td>52</td>\n",
       "      <td>826.047930</td>\n",
       "      <td>837.165025</td>\n",
       "      <td>0.536788</td>\n",
       "      <td>78.048780</td>\n",
       "      <td>84.146341</td>\n",
       "      <td>84.146341</td>\n",
       "      <td>78.048780</td>\n",
       "    </tr>\n",
       "  </tbody>\n",
       "</table>\n",
       "<p>2 rows × 58 columns</p>\n",
       "</div>"
      ],
      "text/plain": [
       "        index                    game_id  season  day_num       date  team_id  \\\n",
       "184885  68788  2020_2020-03-11_1155_1274    2020      128 2020-03-11     1155   \n",
       "184934  68789  2020_2020-03-11_1155_1274    2020      128 2020-03-11     1274   \n",
       "\n",
       "       team_name           team_city team_state team_dist_from_home  ...  \\\n",
       "184885   Clemson   Clemson                   SC                 197  ...   \n",
       "184934  Miami FL   Coral Gables              FL                 714  ...   \n",
       "\n",
       "        opp_blks opp_pfs opp_poss opp_elo_before_game opp_elo_after_game  \\\n",
       "184885         3      16       68          816.444562         805.327466   \n",
       "184934         1      10       52          826.047930         837.165025   \n",
       "\n",
       "        opp_elo_win_prob  team_off_eff team_def_eff  opp_off_eff  opp_def_eff  \n",
       "184885          0.463212     84.146341    78.048780    78.048780    84.146341  \n",
       "184934          0.536788     78.048780    84.146341    84.146341    78.048780  \n",
       "\n",
       "[2 rows x 58 columns]"
      ]
     },
     "execution_count": 24,
     "metadata": {},
     "output_type": "execute_result"
    }
   ],
   "source": [
    "dfByDate[dfByDate['game_id'] == '2020_2020-03-11_1155_1274']"
   ]
  },
  {
   "cell_type": "code",
   "execution_count": 25,
   "metadata": {},
   "outputs": [
    {
     "data": {
      "text/plain": [
       "array([2])"
      ]
     },
     "execution_count": 25,
     "metadata": {},
     "output_type": "execute_result"
    }
   ],
   "source": [
    "dfByDate.groupby('game_id').count()['index'].unique()"
   ]
  },
  {
   "cell_type": "code",
   "execution_count": 26,
   "metadata": {},
   "outputs": [
    {
     "data": {
      "text/plain": [
       "0         0\n",
       "1         0\n",
       "2         0\n",
       "3         0\n",
       "4         0\n",
       "         ..\n",
       "184935    1\n",
       "184936    0\n",
       "184937    1\n",
       "184938    1\n",
       "184939    1\n",
       "Name: team_elo_win_prob, Length: 184940, dtype: int64"
      ]
     },
     "execution_count": 26,
     "metadata": {},
     "output_type": "execute_result"
    }
   ],
   "source": [
    "dfByDate['team_elo_win_prob'].apply(lambda x: round(x))"
   ]
  },
  {
   "cell_type": "code",
   "execution_count": 27,
   "metadata": {},
   "outputs": [],
   "source": [
    "from sklearn.metrics import accuracy_score"
   ]
  },
  {
   "cell_type": "code",
   "execution_count": 48,
   "metadata": {},
   "outputs": [],
   "source": [
    "def accuracy_threshold(df, thresh, range_=0.5):\n",
    "    df_above = df[(df['team_elo_win_prob'] >= thresh) & (df['team_elo_win_prob'] <= thresh + range_)]\n",
    "    y_true = df_above['team_win']\n",
    "    y_pred = df_above['team_elo_win_prob'].apply(lambda x: round(x))\n",
    "    return accuracy_score(y_true, y_pred)"
   ]
  },
  {
   "cell_type": "code",
   "execution_count": 49,
   "metadata": {},
   "outputs": [
    {
     "data": {
      "text/plain": [
       "69.86379727162839"
      ]
     },
     "execution_count": 49,
     "metadata": {},
     "output_type": "execute_result"
    }
   ],
   "source": [
    "accuracy_threshold(dfByDate, 0.5) * 100"
   ]
  },
  {
   "cell_type": "code",
   "execution_count": 30,
   "metadata": {},
   "outputs": [
    {
     "name": "stderr",
     "output_type": "stream",
     "text": [
      "/Users/jared/anaconda3/lib/python3.7/site-packages/numpy/lib/function_base.py:393: RuntimeWarning: Mean of empty slice.\n",
      "  avg = a.mean(axis)\n",
      "/Users/jared/anaconda3/lib/python3.7/site-packages/numpy/core/_methods.py:161: RuntimeWarning: invalid value encountered in double_scalars\n",
      "  ret = ret.dtype.type(ret / rcount)\n"
     ]
    },
    {
     "data": {
      "text/plain": [
       "Text(0, 0.5, 'Accuracy of Elo predictions')"
      ]
     },
     "execution_count": 30,
     "metadata": {},
     "output_type": "execute_result"
    },
    {
     "data": {
      "image/png": "[encoded data removed]",
      "text/plain": [
       "<Figure size 432x288 with 1 Axes>"
      ]
     },
     "metadata": {
      "needs_background": "light"
     },
     "output_type": "display_data"
    }
   ],
   "source": [
    "fig, ax = plt.subplots()\n",
    "\n",
    "x = np.linspace(0.5, 1, 100)\n",
    "y = [accuracy_threshold(dfByDate, t, 0.01) for t in x]\n",
    "\n",
    "ax.plot(x, y)\n",
    "ax.set_title('Accuracy levels by Elo probs')\n",
    "ax.set_xlabel('Elo win probability threshold for prediction')\n",
    "ax.set_ylabel('Accuracy of Elo predictions')"
   ]
  },
  {
   "cell_type": "code",
   "execution_count": 31,
   "metadata": {},
   "outputs": [
    {
     "data": {
      "text/plain": [
       "801.734237478308"
      ]
     },
     "execution_count": 31,
     "metadata": {},
     "output_type": "execute_result"
    }
   ],
   "source": [
    "dfByDate[dfByDate['team_name'] == 'Alabama']['team_elo_after_game'].iloc[-1]"
   ]
  },
  {
   "cell_type": "code",
   "execution_count": 32,
   "metadata": {},
   "outputs": [],
   "source": [
    "def most_recent_elo(team_name):\n",
    "    return dfByDate[dfByDate['team_name'] == team_name]['team_elo_after_game'].iloc[-1]\n",
    "\n",
    "def calc_elo_win_prob(team_name, opp_name):\n",
    "    team_elo = most_recent_elo(team_name)\n",
    "    opp_elo = most_recent_elo(opp_name)\n",
    "    \n",
    "    E = 1 / ( 1  +  10 ** ((opp_elo - team_elo)/400) )\n",
    "    return E\n"
   ]
  },
  {
   "cell_type": "code",
   "execution_count": 33,
   "metadata": {},
   "outputs": [
    {
     "data": {
      "text/plain": [
       "0.8607104987074217"
      ]
     },
     "execution_count": 33,
     "metadata": {},
     "output_type": "execute_result"
    }
   ],
   "source": [
    "calc_elo_win_prob('Alabama', 'Alabama A&M')"
   ]
  },
  {
   "cell_type": "code",
   "execution_count": 34,
   "metadata": {},
   "outputs": [
    {
     "data": {
      "text/html": [
       "<div>\n",
       "<style scoped>\n",
       "    .dataframe tbody tr th:only-of-type {\n",
       "        vertical-align: middle;\n",
       "    }\n",
       "\n",
       "    .dataframe tbody tr th {\n",
       "        vertical-align: top;\n",
       "    }\n",
       "\n",
       "    .dataframe thead th {\n",
       "        text-align: right;\n",
       "    }\n",
       "</style>\n",
       "<table border=\"1\" class=\"dataframe\">\n",
       "  <thead>\n",
       "    <tr style=\"text-align: right;\">\n",
       "      <th></th>\n",
       "      <th>team_name</th>\n",
       "      <th>wins</th>\n",
       "      <th>losses</th>\n",
       "      <th>w/l_ratio</th>\n",
       "    </tr>\n",
       "  </thead>\n",
       "  <tbody>\n",
       "    <tr>\n",
       "      <td>0</td>\n",
       "      <td>Abilene Chr</td>\n",
       "      <td>78</td>\n",
       "      <td>106</td>\n",
       "      <td>0.423913</td>\n",
       "    </tr>\n",
       "    <tr>\n",
       "      <td>1</td>\n",
       "      <td>Air Force</td>\n",
       "      <td>243</td>\n",
       "      <td>278</td>\n",
       "      <td>0.466411</td>\n",
       "    </tr>\n",
       "    <tr>\n",
       "      <td>2</td>\n",
       "      <td>Akron</td>\n",
       "      <td>364</td>\n",
       "      <td>198</td>\n",
       "      <td>0.647687</td>\n",
       "    </tr>\n",
       "    <tr>\n",
       "      <td>3</td>\n",
       "      <td>Alabama</td>\n",
       "      <td>324</td>\n",
       "      <td>238</td>\n",
       "      <td>0.576512</td>\n",
       "    </tr>\n",
       "    <tr>\n",
       "      <td>4</td>\n",
       "      <td>Alabama A&amp;M</td>\n",
       "      <td>151</td>\n",
       "      <td>340</td>\n",
       "      <td>0.307536</td>\n",
       "    </tr>\n",
       "    <tr>\n",
       "      <td>...</td>\n",
       "      <td>...</td>\n",
       "      <td>...</td>\n",
       "      <td>...</td>\n",
       "      <td>...</td>\n",
       "    </tr>\n",
       "    <tr>\n",
       "      <td>355</td>\n",
       "      <td>Wright St</td>\n",
       "      <td>309</td>\n",
       "      <td>236</td>\n",
       "      <td>0.566972</td>\n",
       "    </tr>\n",
       "    <tr>\n",
       "      <td>356</td>\n",
       "      <td>Wyoming</td>\n",
       "      <td>252</td>\n",
       "      <td>285</td>\n",
       "      <td>0.469274</td>\n",
       "    </tr>\n",
       "    <tr>\n",
       "      <td>357</td>\n",
       "      <td>Xavier</td>\n",
       "      <td>401</td>\n",
       "      <td>175</td>\n",
       "      <td>0.696181</td>\n",
       "    </tr>\n",
       "    <tr>\n",
       "      <td>358</td>\n",
       "      <td>Yale</td>\n",
       "      <td>270</td>\n",
       "      <td>228</td>\n",
       "      <td>0.542169</td>\n",
       "    </tr>\n",
       "    <tr>\n",
       "      <td>359</td>\n",
       "      <td>Youngstown St</td>\n",
       "      <td>148</td>\n",
       "      <td>337</td>\n",
       "      <td>0.305155</td>\n",
       "    </tr>\n",
       "  </tbody>\n",
       "</table>\n",
       "<p>360 rows × 4 columns</p>\n",
       "</div>"
      ],
      "text/plain": [
       "                team_name  wins  losses  w/l_ratio\n",
       "0     Abilene Chr            78     106   0.423913\n",
       "1     Air Force             243     278   0.466411\n",
       "2     Akron                 364     198   0.647687\n",
       "3     Alabama               324     238   0.576512\n",
       "4     Alabama A&M           151     340   0.307536\n",
       "..                    ...   ...     ...        ...\n",
       "355   Wright St             309     236   0.566972\n",
       "356   Wyoming               252     285   0.469274\n",
       "357   Xavier                401     175   0.696181\n",
       "358   Yale                  270     228   0.542169\n",
       "359   Youngstown St         148     337   0.305155\n",
       "\n",
       "[360 rows x 4 columns]"
      ]
     },
     "execution_count": 34,
     "metadata": {},
     "output_type": "execute_result"
    }
   ],
   "source": [
    "records = records.reset_index()\n",
    "records"
   ]
  },
  {
   "cell_type": "code",
   "execution_count": 35,
   "metadata": {},
   "outputs": [],
   "source": [
    "records['team_name'] = records['team_name'].apply(lambda x: x.strip())"
   ]
  },
  {
   "cell_type": "code",
   "execution_count": 36,
   "metadata": {},
   "outputs": [],
   "source": [
    "records['most_recent_elo'] = records['team_name'].apply(most_recent_elo)"
   ]
  },
  {
   "cell_type": "code",
   "execution_count": 37,
   "metadata": {},
   "outputs": [],
   "source": [
    "team_names_grouped = dfByDate.groupby('team_name').agg(max)"
   ]
  },
  {
   "cell_type": "code",
   "execution_count": 38,
   "metadata": {},
   "outputs": [],
   "source": [
    "records = records.merge(team_names_grouped[['team_city', 'team_state', 'team_id']], how='inner', on='team_name')"
   ]
  },
  {
   "cell_type": "code",
   "execution_count": 39,
   "metadata": {},
   "outputs": [],
   "source": [
    "records.to_csv('records.csv')"
   ]
  },
  {
   "cell_type": "code",
   "execution_count": 40,
   "metadata": {},
   "outputs": [],
   "source": [
    "records = pd.read_csv('records.csv', index_col=0)"
   ]
  },
  {
   "cell_type": "code",
   "execution_count": 41,
   "metadata": {},
   "outputs": [
    {
     "name": "stdout",
     "output_type": "stream",
     "text": [
      "16\n",
      "Northern Arizona\n"
     ]
    }
   ],
   "source": [
    "names = records['team_name']\n",
    "max_ = 0\n",
    "long = ''\n",
    "for c in names:\n",
    "    s = c.strip()\n",
    "    if len(s) >= max_ and s != 'Eastern New Mexico':\n",
    "        max_ = len(s)\n",
    "        long = s\n",
    "print(max_)\n",
    "print(long)"
   ]
  },
  {
   "cell_type": "code",
   "execution_count": 42,
   "metadata": {},
   "outputs": [],
   "source": [
    "# preds = pd.DataFrame(columns=['team_name', 'opp_name', 'team_win_prob', 'opp_win_prob'])\n",
    "\n",
    "E = lambda team_elo, opp_elo: 1 / ( 1  +  10 ** ((opp_elo - team_elo)/400) )\n",
    "\n",
    "team_name = []\n",
    "opp_name = []\n",
    "team_win_prob = []\n",
    "# opp_win_prob = []\n",
    "\n",
    "for ti, team_elo in enumerate(records.most_recent_elo):\n",
    "    team_name.append(records['team_name'][ti])\n",
    "    matchups = []\n",
    "    for oi, opp_elo in enumerate(records.most_recent_elo):\n",
    "        opp_name.append(records['team_name'][oi])\n",
    "        t_win_prob = E(team_elo, opp_elo)\n",
    "#         o_win_prob = 1 - t_win_prob\n",
    "        matchups.append(t_win_prob)\n",
    "#         opp_win_prob.append(o_win_prob)\n",
    "    team_win_prob.append(matchups)"
   ]
  },
  {
   "cell_type": "code",
   "execution_count": 43,
   "metadata": {
    "scrolled": false
   },
   "outputs": [
    {
     "data": {
      "text/html": [
       "<div>\n",
       "<style scoped>\n",
       "    .dataframe tbody tr th:only-of-type {\n",
       "        vertical-align: middle;\n",
       "    }\n",
       "\n",
       "    .dataframe tbody tr th {\n",
       "        vertical-align: top;\n",
       "    }\n",
       "\n",
       "    .dataframe thead th {\n",
       "        text-align: right;\n",
       "    }\n",
       "</style>\n",
       "<table border=\"1\" class=\"dataframe\">\n",
       "  <thead>\n",
       "    <tr style=\"text-align: right;\">\n",
       "      <th>team_name</th>\n",
       "      <th>Team ID</th>\n",
       "      <th>Team Name</th>\n",
       "      <th>Abilene Chr</th>\n",
       "      <th>Air Force</th>\n",
       "      <th>Akron</th>\n",
       "      <th>Alabama</th>\n",
       "      <th>Alabama A&amp;M</th>\n",
       "      <th>Alabama St</th>\n",
       "      <th>Albany NY</th>\n",
       "      <th>Alcorn St</th>\n",
       "      <th>...</th>\n",
       "      <th>Wichita St</th>\n",
       "      <th>William &amp; Mary</th>\n",
       "      <th>Winthrop</th>\n",
       "      <th>Wisconsin</th>\n",
       "      <th>Wofford</th>\n",
       "      <th>Wright St</th>\n",
       "      <th>Wyoming</th>\n",
       "      <th>Xavier</th>\n",
       "      <th>Yale</th>\n",
       "      <th>Youngstown St</th>\n",
       "    </tr>\n",
       "  </thead>\n",
       "  <tbody>\n",
       "    <tr>\n",
       "      <td>0</td>\n",
       "      <td>1101</td>\n",
       "      <td>Abilene Chr</td>\n",
       "      <td>0.500000</td>\n",
       "      <td>0.527166</td>\n",
       "      <td>0.351974</td>\n",
       "      <td>0.341481</td>\n",
       "      <td>0.762150</td>\n",
       "      <td>0.743848</td>\n",
       "      <td>0.631186</td>\n",
       "      <td>0.690027</td>\n",
       "      <td>...</td>\n",
       "      <td>0.286993</td>\n",
       "      <td>0.450546</td>\n",
       "      <td>0.485123</td>\n",
       "      <td>0.219955</td>\n",
       "      <td>0.453363</td>\n",
       "      <td>0.428816</td>\n",
       "      <td>0.532326</td>\n",
       "      <td>0.300940</td>\n",
       "      <td>0.371634</td>\n",
       "      <td>0.581424</td>\n",
       "    </tr>\n",
       "    <tr>\n",
       "      <td>1</td>\n",
       "      <td>1102</td>\n",
       "      <td>Air Force</td>\n",
       "      <td>0.472834</td>\n",
       "      <td>0.500000</td>\n",
       "      <td>0.327581</td>\n",
       "      <td>0.317459</td>\n",
       "      <td>0.741874</td>\n",
       "      <td>0.722580</td>\n",
       "      <td>0.605525</td>\n",
       "      <td>0.666295</td>\n",
       "      <td>...</td>\n",
       "      <td>0.265260</td>\n",
       "      <td>0.423790</td>\n",
       "      <td>0.458025</td>\n",
       "      <td>0.201862</td>\n",
       "      <td>0.426569</td>\n",
       "      <td>0.402405</td>\n",
       "      <td>0.505179</td>\n",
       "      <td>0.278564</td>\n",
       "      <td>0.346607</td>\n",
       "      <td>0.554743</td>\n",
       "    </tr>\n",
       "    <tr>\n",
       "      <td>2</td>\n",
       "      <td>1103</td>\n",
       "      <td>Akron</td>\n",
       "      <td>0.648026</td>\n",
       "      <td>0.672419</td>\n",
       "      <td>0.500000</td>\n",
       "      <td>0.488420</td>\n",
       "      <td>0.855063</td>\n",
       "      <td>0.842433</td>\n",
       "      <td>0.759088</td>\n",
       "      <td>0.803864</td>\n",
       "      <td>...</td>\n",
       "      <td>0.425641</td>\n",
       "      <td>0.601546</td>\n",
       "      <td>0.634333</td>\n",
       "      <td>0.341739</td>\n",
       "      <td>0.604269</td>\n",
       "      <td>0.580224</td>\n",
       "      <td>0.676965</td>\n",
       "      <td>0.442148</td>\n",
       "      <td>0.521277</td>\n",
       "      <td>0.718897</td>\n",
       "    </tr>\n",
       "    <tr>\n",
       "      <td>3</td>\n",
       "      <td>1104</td>\n",
       "      <td>Alabama</td>\n",
       "      <td>0.658519</td>\n",
       "      <td>0.682541</td>\n",
       "      <td>0.511580</td>\n",
       "      <td>0.500000</td>\n",
       "      <td>0.860710</td>\n",
       "      <td>0.848485</td>\n",
       "      <td>0.767458</td>\n",
       "      <td>0.811066</td>\n",
       "      <td>...</td>\n",
       "      <td>0.437004</td>\n",
       "      <td>0.612597</td>\n",
       "      <td>0.645010</td>\n",
       "      <td>0.352236</td>\n",
       "      <td>0.615292</td>\n",
       "      <td>0.591464</td>\n",
       "      <td>0.687013</td>\n",
       "      <td>0.453604</td>\n",
       "      <td>0.532825</td>\n",
       "      <td>0.728164</td>\n",
       "    </tr>\n",
       "    <tr>\n",
       "      <td>4</td>\n",
       "      <td>1105</td>\n",
       "      <td>Alabama A&amp;M</td>\n",
       "      <td>0.237850</td>\n",
       "      <td>0.258126</td>\n",
       "      <td>0.144937</td>\n",
       "      <td>0.139290</td>\n",
       "      <td>0.500000</td>\n",
       "      <td>0.475411</td>\n",
       "      <td>0.348148</td>\n",
       "      <td>0.409930</td>\n",
       "      <td>...</td>\n",
       "      <td>0.111597</td>\n",
       "      <td>0.203759</td>\n",
       "      <td>0.227229</td>\n",
       "      <td>0.080882</td>\n",
       "      <td>0.205610</td>\n",
       "      <td>0.189820</td>\n",
       "      <td>0.262113</td>\n",
       "      <td>0.118436</td>\n",
       "      <td>0.155813</td>\n",
       "      <td>0.302404</td>\n",
       "    </tr>\n",
       "    <tr>\n",
       "      <td>5</td>\n",
       "      <td>1106</td>\n",
       "      <td>Alabama St</td>\n",
       "      <td>0.256152</td>\n",
       "      <td>0.277420</td>\n",
       "      <td>0.157567</td>\n",
       "      <td>0.151515</td>\n",
       "      <td>0.524589</td>\n",
       "      <td>0.500000</td>\n",
       "      <td>0.370807</td>\n",
       "      <td>0.433933</td>\n",
       "      <td>...</td>\n",
       "      <td>0.121735</td>\n",
       "      <td>0.220195</td>\n",
       "      <td>0.244975</td>\n",
       "      <td>0.088508</td>\n",
       "      <td>0.222154</td>\n",
       "      <td>0.205421</td>\n",
       "      <td>0.281592</td>\n",
       "      <td>0.129105</td>\n",
       "      <td>0.169204</td>\n",
       "      <td>0.323563</td>\n",
       "    </tr>\n",
       "    <tr>\n",
       "      <td>6</td>\n",
       "      <td>1107</td>\n",
       "      <td>Albany NY</td>\n",
       "      <td>0.368814</td>\n",
       "      <td>0.394475</td>\n",
       "      <td>0.240912</td>\n",
       "      <td>0.232542</td>\n",
       "      <td>0.651852</td>\n",
       "      <td>0.629193</td>\n",
       "      <td>0.500000</td>\n",
       "      <td>0.565358</td>\n",
       "      <td>...</td>\n",
       "      <td>0.190411</td>\n",
       "      <td>0.323929</td>\n",
       "      <td>0.355068</td>\n",
       "      <td>0.141458</td>\n",
       "      <td>0.326425</td>\n",
       "      <td>0.304917</td>\n",
       "      <td>0.399434</td>\n",
       "      <td>0.200988</td>\n",
       "      <td>0.256827</td>\n",
       "      <td>0.448017</td>\n",
       "    </tr>\n",
       "    <tr>\n",
       "      <td>7</td>\n",
       "      <td>1108</td>\n",
       "      <td>Alcorn St</td>\n",
       "      <td>0.309973</td>\n",
       "      <td>0.333705</td>\n",
       "      <td>0.196136</td>\n",
       "      <td>0.188934</td>\n",
       "      <td>0.590070</td>\n",
       "      <td>0.566067</td>\n",
       "      <td>0.434642</td>\n",
       "      <td>0.500000</td>\n",
       "      <td>...</td>\n",
       "      <td>0.153128</td>\n",
       "      <td>0.269195</td>\n",
       "      <td>0.297387</td>\n",
       "      <td>0.112428</td>\n",
       "      <td>0.271438</td>\n",
       "      <td>0.252197</td>\n",
       "      <td>0.338327</td>\n",
       "      <td>0.162048</td>\n",
       "      <td>0.209911</td>\n",
       "      <td>0.384232</td>\n",
       "    </tr>\n",
       "    <tr>\n",
       "      <td>8</td>\n",
       "      <td>1110</td>\n",
       "      <td>American Univ</td>\n",
       "      <td>0.462900</td>\n",
       "      <td>0.490026</td>\n",
       "      <td>0.318853</td>\n",
       "      <td>0.308877</td>\n",
       "      <td>0.734159</td>\n",
       "      <td>0.714511</td>\n",
       "      <td>0.595955</td>\n",
       "      <td>0.657365</td>\n",
       "      <td>...</td>\n",
       "      <td>0.257557</td>\n",
       "      <td>0.414077</td>\n",
       "      <td>0.448138</td>\n",
       "      <td>0.195510</td>\n",
       "      <td>0.416839</td>\n",
       "      <td>0.392849</td>\n",
       "      <td>0.495204</td>\n",
       "      <td>0.270617</td>\n",
       "      <td>0.337627</td>\n",
       "      <td>0.544867</td>\n",
       "    </tr>\n",
       "    <tr>\n",
       "      <td>9</td>\n",
       "      <td>1111</td>\n",
       "      <td>Appalachian St</td>\n",
       "      <td>0.500447</td>\n",
       "      <td>0.527612</td>\n",
       "      <td>0.352382</td>\n",
       "      <td>0.341883</td>\n",
       "      <td>0.762474</td>\n",
       "      <td>0.744189</td>\n",
       "      <td>0.631603</td>\n",
       "      <td>0.690410</td>\n",
       "      <td>...</td>\n",
       "      <td>0.287359</td>\n",
       "      <td>0.450989</td>\n",
       "      <td>0.485570</td>\n",
       "      <td>0.220262</td>\n",
       "      <td>0.453807</td>\n",
       "      <td>0.429255</td>\n",
       "      <td>0.532772</td>\n",
       "      <td>0.301317</td>\n",
       "      <td>0.372052</td>\n",
       "      <td>0.581860</td>\n",
       "    </tr>\n",
       "  </tbody>\n",
       "</table>\n",
       "<p>10 rows × 362 columns</p>\n",
       "</div>"
      ],
      "text/plain": [
       "team_name  Team ID       Team Name  Abilene Chr  Air Force     Akron  \\\n",
       "0             1101     Abilene Chr     0.500000   0.527166  0.351974   \n",
       "1             1102       Air Force     0.472834   0.500000  0.327581   \n",
       "2             1103           Akron     0.648026   0.672419  0.500000   \n",
       "3             1104         Alabama     0.658519   0.682541  0.511580   \n",
       "4             1105     Alabama A&M     0.237850   0.258126  0.144937   \n",
       "5             1106      Alabama St     0.256152   0.277420  0.157567   \n",
       "6             1107       Albany NY     0.368814   0.394475  0.240912   \n",
       "7             1108       Alcorn St     0.309973   0.333705  0.196136   \n",
       "8             1110   American Univ     0.462900   0.490026  0.318853   \n",
       "9             1111  Appalachian St     0.500447   0.527612  0.352382   \n",
       "\n",
       "team_name   Alabama  Alabama A&M  Alabama St  Albany NY  Alcorn St  ...  \\\n",
       "0          0.341481     0.762150    0.743848   0.631186   0.690027  ...   \n",
       "1          0.317459     0.741874    0.722580   0.605525   0.666295  ...   \n",
       "2          0.488420     0.855063    0.842433   0.759088   0.803864  ...   \n",
       "3          0.500000     0.860710    0.848485   0.767458   0.811066  ...   \n",
       "4          0.139290     0.500000    0.475411   0.348148   0.409930  ...   \n",
       "5          0.151515     0.524589    0.500000   0.370807   0.433933  ...   \n",
       "6          0.232542     0.651852    0.629193   0.500000   0.565358  ...   \n",
       "7          0.188934     0.590070    0.566067   0.434642   0.500000  ...   \n",
       "8          0.308877     0.734159    0.714511   0.595955   0.657365  ...   \n",
       "9          0.341883     0.762474    0.744189   0.631603   0.690410  ...   \n",
       "\n",
       "team_name  Wichita St  William & Mary  Winthrop  Wisconsin   Wofford  \\\n",
       "0            0.286993        0.450546  0.485123   0.219955  0.453363   \n",
       "1            0.265260        0.423790  0.458025   0.201862  0.426569   \n",
       "2            0.425641        0.601546  0.634333   0.341739  0.604269   \n",
       "3            0.437004        0.612597  0.645010   0.352236  0.615292   \n",
       "4            0.111597        0.203759  0.227229   0.080882  0.205610   \n",
       "5            0.121735        0.220195  0.244975   0.088508  0.222154   \n",
       "6            0.190411        0.323929  0.355068   0.141458  0.326425   \n",
       "7            0.153128        0.269195  0.297387   0.112428  0.271438   \n",
       "8            0.257557        0.414077  0.448138   0.195510  0.416839   \n",
       "9            0.287359        0.450989  0.485570   0.220262  0.453807   \n",
       "\n",
       "team_name  Wright St   Wyoming    Xavier      Yale  Youngstown St  \n",
       "0           0.428816  0.532326  0.300940  0.371634       0.581424  \n",
       "1           0.402405  0.505179  0.278564  0.346607       0.554743  \n",
       "2           0.580224  0.676965  0.442148  0.521277       0.718897  \n",
       "3           0.591464  0.687013  0.453604  0.532825       0.728164  \n",
       "4           0.189820  0.262113  0.118436  0.155813       0.302404  \n",
       "5           0.205421  0.281592  0.129105  0.169204       0.323563  \n",
       "6           0.304917  0.399434  0.200988  0.256827       0.448017  \n",
       "7           0.252197  0.338327  0.162048  0.209911       0.384232  \n",
       "8           0.392849  0.495204  0.270617  0.337627       0.544867  \n",
       "9           0.429255  0.532772  0.301317  0.372052       0.581860  \n",
       "\n",
       "[10 rows x 362 columns]"
      ]
     },
     "execution_count": 43,
     "metadata": {},
     "output_type": "execute_result"
    }
   ],
   "source": [
    "preds = pd.DataFrame(columns=records['team_name'], data=np.array(team_win_prob))\n",
    "preds.insert(0, 'Team ID', records['team_id'])\n",
    "preds.insert(1, 'Team Name', team_name)\n",
    "preds.head(10)"
   ]
  },
  {
   "cell_type": "code",
   "execution_count": 44,
   "metadata": {},
   "outputs": [],
   "source": [
    "preds.to_csv('preds_by_elo.csv')"
   ]
  },
  {
   "cell_type": "markdown",
   "metadata": {},
   "source": [
    "#### Team Dist from home"
   ]
  },
  {
   "cell_type": "code",
   "execution_count": 45,
   "metadata": {},
   "outputs": [
    {
     "data": {
      "text/plain": [
       "array(['                     ', 461, 0, ..., 1268, 5150, 1705],\n",
       "      dtype=object)"
      ]
     },
     "execution_count": 45,
     "metadata": {},
     "output_type": "execute_result"
    }
   ],
   "source": [
    "dfByDate['team_dist_from_home'].unique()"
   ]
  },
  {
   "cell_type": "code",
   "execution_count": null,
   "metadata": {},
   "outputs": [],
   "source": []
  },
  {
   "cell_type": "code",
   "execution_count": null,
   "metadata": {},
   "outputs": [],
   "source": []
  },
  {
   "cell_type": "markdown",
   "metadata": {},
   "source": [
    "### Feature selection / Engineering"
   ]
  },
  {
   "cell_type": "markdown",
   "metadata": {},
   "source": [
    "Some features are obviously not going to be available for new games. You will just have team names, their prior history, and possibly location data about the game.\n",
    "\n",
    "Things to implement:\n",
    "\n",
    "   - New column which makes prediction based on who has higher elo. Then compare to actual result.\n",
    "\n",
    "   - Running totals/averages for games (rolling windows for date ranges/seasons)"
   ]
  },
  {
   "cell_type": "markdown",
   "metadata": {},
   "source": [
    "#### Correlation"
   ]
  },
  {
   "cell_type": "code",
   "execution_count": 121,
   "metadata": {},
   "outputs": [],
   "source": [
    "df['team_fg_percent'] = df['team_fgm'] / df['team_fga']\n",
    "df['opp_fg_percent'] = df['opp_fgm'] / df['opp_fga']\n",
    "\n",
    "df['team_3p_percent'] = df['team_3pm'] / df['team_3pa']\n",
    "df['opp_3p_percent'] = df['opp_3pm'] / df['opp_3pa']\n",
    "\n",
    "\n",
    "df['team_ft_percent'] = df['team_ftm'] / df['team_fta']\n",
    "df['opp_ft_percent'] = df['opp_ftm'] / df['opp_fta']\n"
   ]
  },
  {
   "cell_type": "code",
   "execution_count": 122,
   "metadata": {},
   "outputs": [],
   "source": [
    "correlations = df.corrwith(df['team_win'], method='spearman').sort_values().drop('team_win')"
   ]
  },
  {
   "cell_type": "code",
   "execution_count": 124,
   "metadata": {},
   "outputs": [
    {
     "name": "stdout",
     "output_type": "stream",
     "text": [
      "Top 5 factors in increasing win probability:\n",
      "opp_def_eff            0.512642\n",
      "team_off_eff           0.512642\n",
      "team_fg_percent        0.492700\n",
      "team_score             0.488390\n",
      "team_elo_win_prob      0.476743\n",
      "team_def_rebs          0.395244\n",
      "team_asts              0.372791\n",
      "team_fgm               0.360709\n",
      "team_elo_after_game    0.338183\n",
      "team_3p_percent        0.317057\n",
      "dtype: float64 \n",
      "\n",
      "Top 5 factors in decreasing win probability:\n",
      "opp_off_eff          -0.512642\n",
      "team_def_eff         -0.512642\n",
      "opp_fg_percent       -0.492700\n",
      "opp_score            -0.488390\n",
      "opp_elo_win_prob     -0.476743\n",
      "opp_def_rebs         -0.395244\n",
      "opp_asts             -0.372791\n",
      "opp_fgm              -0.360709\n",
      "opp_elo_after_game   -0.338183\n",
      "opp_3p_percent       -0.317057\n",
      "dtype: float64\n"
     ]
    }
   ],
   "source": [
    "print(\"Top 5 factors in increasing win probability:\")\n",
    "print(correlations[::-1][:10], '\\n')\n",
    "print(\"Top 5 factors in decreasing win probability:\")\n",
    "print(correlations[:10])"
   ]
  },
  {
   "cell_type": "code",
   "execution_count": null,
   "metadata": {},
   "outputs": [],
   "source": []
  },
  {
   "cell_type": "code",
   "execution_count": 114,
   "metadata": {},
   "outputs": [
    {
     "data": {
      "text/plain": [
       "opp_off_eff            -0.512642\n",
       "team_def_eff           -0.512642\n",
       "opp_score              -0.488390\n",
       "opp_elo_win_prob       -0.476743\n",
       "opp_def_rebs           -0.395244\n",
       "opp_asts               -0.372791\n",
       "opp_fgm                -0.360709\n",
       "opp_elo_after_game     -0.338183\n",
       "opp_ftm                -0.313585\n",
       "opp_fta                -0.283804\n",
       "team_pfs               -0.252684\n",
       "opp_elo_before_game    -0.250446\n",
       "team_dfh               -0.245216\n",
       "opp_blks               -0.200299\n",
       "opp_3pm                -0.174587\n",
       "opp_stls               -0.158827\n",
       "team_tos               -0.148883\n",
       "team_3pa               -0.078759\n",
       "team_fga               -0.078490\n",
       "opp_team_id            -0.026049\n",
       "team_off_rebs          -0.024091\n",
       "season                  0.000000\n",
       "day_num                 0.000000\n",
       "score_difference        0.000000\n",
       "opp_poss                0.011140\n",
       "opp_off_rebs            0.024091\n",
       "team_id                 0.026049\n",
       "opp_fga                 0.078490\n",
       "opp_3pa                 0.078759\n",
       "team_poss               0.141219\n",
       "opp_tos                 0.148883\n",
       "team_stls               0.158827\n",
       "team_3pm                0.174587\n",
       "team_blks               0.200299\n",
       "team_elo_before_game    0.250446\n",
       "opp_pfs                 0.252684\n",
       "team_fta                0.283804\n",
       "team_ftm                0.313585\n",
       "team_elo_after_game     0.338183\n",
       "team_fgm                0.360709\n",
       "team_asts               0.372791\n",
       "team_def_rebs           0.395244\n",
       "team_elo_win_prob       0.476743\n",
       "team_score              0.488390\n",
       "team_off_eff            0.512642\n",
       "opp_def_eff             0.512642\n",
       "dtype: float64"
      ]
     },
     "execution_count": 114,
     "metadata": {},
     "output_type": "execute_result"
    }
   ],
   "source": [
    "correlations"
   ]
  },
  {
   "cell_type": "code",
   "execution_count": null,
   "metadata": {},
   "outputs": [],
   "source": []
  },
  {
   "cell_type": "code",
   "execution_count": null,
   "metadata": {},
   "outputs": [],
   "source": []
  }
 ],
 "metadata": {
  "kernelspec": {
   "display_name": "Python 3",
   "language": "python",
   "name": "python3"
  },
  "language_info": {
   "codemirror_mode": {
    "name": "ipython",
    "version": 3
   },
   "file_extension": ".py",
   "mimetype": "text/x-python",
   "name": "python",
   "nbconvert_exporter": "python",
   "pygments_lexer": "ipython3",
   "version": "3.7.3"
  }
 },
 "nbformat": 4,
 "nbformat_minor": 2
}
