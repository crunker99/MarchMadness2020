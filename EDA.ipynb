{
 "cells": [
  {
   "cell_type": "code",
   "execution_count": 1,
   "metadata": {},
   "outputs": [],
   "source": [
    "import pandas as pd\n",
    "import numpy as np\n",
    "import matplotlib.pyplot as plt\n",
    "%matplotlib inline\n",
    "plt.style.use('ggplot')"
   ]
  },
  {
   "cell_type": "markdown",
   "metadata": {},
   "source": [
    "### Load data"
   ]
  },
  {
   "cell_type": "code",
   "execution_count": 5,
   "metadata": {},
   "outputs": [],
   "source": [
    "df = pd.read_excel('vizathon-final.xlsx')"
   ]
  },
  {
   "cell_type": "code",
   "execution_count": 14,
   "metadata": {},
   "outputs": [
    {
     "data": {
      "text/html": [
       "<div>\n",
       "<style scoped>\n",
       "    .dataframe tbody tr th:only-of-type {\n",
       "        vertical-align: middle;\n",
       "    }\n",
       "\n",
       "    .dataframe tbody tr th {\n",
       "        vertical-align: top;\n",
       "    }\n",
       "\n",
       "    .dataframe thead th {\n",
       "        text-align: right;\n",
       "    }\n",
       "</style>\n",
       "<table border=\"1\" class=\"dataframe\">\n",
       "  <thead>\n",
       "    <tr style=\"text-align: right;\">\n",
       "      <th></th>\n",
       "      <th>game_id</th>\n",
       "      <th>season</th>\n",
       "      <th>day_num</th>\n",
       "      <th>date</th>\n",
       "      <th>team_id</th>\n",
       "      <th>team_name</th>\n",
       "      <th>team_city</th>\n",
       "      <th>team_state</th>\n",
       "      <th>team_dist_from_home</th>\n",
       "      <th>opp_team_id</th>\n",
       "      <th>...</th>\n",
       "      <th>opp_blks</th>\n",
       "      <th>opp_pfs</th>\n",
       "      <th>opp_poss</th>\n",
       "      <th>opp_elo_before_game</th>\n",
       "      <th>opp_elo_after_game</th>\n",
       "      <th>opp_elo_win_prob</th>\n",
       "      <th>team_off_eff</th>\n",
       "      <th>team_def_eff</th>\n",
       "      <th>opp_off_eff</th>\n",
       "      <th>opp_def_eff</th>\n",
       "    </tr>\n",
       "  </thead>\n",
       "  <tbody>\n",
       "    <tr>\n",
       "      <td>0</td>\n",
       "      <td>2003_2002-12-16_1337_1350</td>\n",
       "      <td>2003</td>\n",
       "      <td>42</td>\n",
       "      <td>2002-12-16</td>\n",
       "      <td>1337</td>\n",
       "      <td>Pepperdine</td>\n",
       "      <td>Malibu</td>\n",
       "      <td>CA</td>\n",
       "      <td></td>\n",
       "      <td>1350</td>\n",
       "      <td>...</td>\n",
       "      <td>4</td>\n",
       "      <td>24</td>\n",
       "      <td>55</td>\n",
       "      <td>709.824755</td>\n",
       "      <td>697.340523</td>\n",
       "      <td>0.520176</td>\n",
       "      <td>107.792208</td>\n",
       "      <td>100.000000</td>\n",
       "      <td>100.000000</td>\n",
       "      <td>107.792208</td>\n",
       "    </tr>\n",
       "    <tr>\n",
       "      <td>1</td>\n",
       "      <td>2003_2002-12-16_1337_1350</td>\n",
       "      <td>2003</td>\n",
       "      <td>42</td>\n",
       "      <td>2002-12-16</td>\n",
       "      <td>1350</td>\n",
       "      <td>Richmond</td>\n",
       "      <td>Richmond</td>\n",
       "      <td>VA</td>\n",
       "      <td></td>\n",
       "      <td>1337</td>\n",
       "      <td>...</td>\n",
       "      <td>2</td>\n",
       "      <td>18</td>\n",
       "      <td>58</td>\n",
       "      <td>704.564412</td>\n",
       "      <td>717.048645</td>\n",
       "      <td>0.479824</td>\n",
       "      <td>100.000000</td>\n",
       "      <td>107.792208</td>\n",
       "      <td>107.792208</td>\n",
       "      <td>100.000000</td>\n",
       "    </tr>\n",
       "    <tr>\n",
       "      <td>2</td>\n",
       "      <td>2003_2002-12-17_1153_1332</td>\n",
       "      <td>2003</td>\n",
       "      <td>43</td>\n",
       "      <td>2002-12-17</td>\n",
       "      <td>1153</td>\n",
       "      <td>Cincinnati</td>\n",
       "      <td>Cincinnati</td>\n",
       "      <td>OH</td>\n",
       "      <td></td>\n",
       "      <td>1332</td>\n",
       "      <td>...</td>\n",
       "      <td>1</td>\n",
       "      <td>17</td>\n",
       "      <td>53</td>\n",
       "      <td>760.028215</td>\n",
       "      <td>744.627167</td>\n",
       "      <td>0.641710</td>\n",
       "      <td>101.315789</td>\n",
       "      <td>68.421053</td>\n",
       "      <td>68.421053</td>\n",
       "      <td>101.315789</td>\n",
       "    </tr>\n",
       "    <tr>\n",
       "      <td>3</td>\n",
       "      <td>2003_2002-12-17_1153_1332</td>\n",
       "      <td>2003</td>\n",
       "      <td>43</td>\n",
       "      <td>2002-12-17</td>\n",
       "      <td>1332</td>\n",
       "      <td>Oregon</td>\n",
       "      <td>Eugene</td>\n",
       "      <td>OR</td>\n",
       "      <td></td>\n",
       "      <td>1153</td>\n",
       "      <td>...</td>\n",
       "      <td>2</td>\n",
       "      <td>16</td>\n",
       "      <td>61</td>\n",
       "      <td>722.062511</td>\n",
       "      <td>737.463558</td>\n",
       "      <td>0.358290</td>\n",
       "      <td>68.421053</td>\n",
       "      <td>101.315789</td>\n",
       "      <td>101.315789</td>\n",
       "      <td>68.421053</td>\n",
       "    </tr>\n",
       "    <tr>\n",
       "      <td>4</td>\n",
       "      <td>2003_2002-12-17_1257_1184</td>\n",
       "      <td>2003</td>\n",
       "      <td>43</td>\n",
       "      <td>2002-12-17</td>\n",
       "      <td>1184</td>\n",
       "      <td>E Kentucky</td>\n",
       "      <td>Richmond</td>\n",
       "      <td>KY</td>\n",
       "      <td></td>\n",
       "      <td>1257</td>\n",
       "      <td>...</td>\n",
       "      <td>6</td>\n",
       "      <td>17</td>\n",
       "      <td>57</td>\n",
       "      <td>725.007502</td>\n",
       "      <td>734.190077</td>\n",
       "      <td>0.617393</td>\n",
       "      <td>84.000000</td>\n",
       "      <td>138.666667</td>\n",
       "      <td>138.666667</td>\n",
       "      <td>84.000000</td>\n",
       "    </tr>\n",
       "  </tbody>\n",
       "</table>\n",
       "<p>5 rows × 57 columns</p>\n",
       "</div>"
      ],
      "text/plain": [
       "                       game_id  season  day_num          date  team_id  \\\n",
       "0   2003_2002-12-16_1337_1350     2003       42   2002-12-16      1337   \n",
       "1   2003_2002-12-16_1337_1350     2003       42   2002-12-16      1350   \n",
       "2   2003_2002-12-17_1153_1332     2003       43   2002-12-17      1153   \n",
       "3   2003_2002-12-17_1153_1332     2003       43   2002-12-17      1332   \n",
       "4   2003_2002-12-17_1257_1184     2003       43   2002-12-17      1184   \n",
       "\n",
       "              team_name           team_city    team_state  \\\n",
       "0   Pepperdine            Malibu              CA            \n",
       "1   Richmond              Richmond            VA            \n",
       "2   Cincinnati            Cincinnati          OH            \n",
       "3   Oregon                Eugene              OR            \n",
       "4   E Kentucky            Richmond            KY            \n",
       "\n",
       "     team_dist_from_home  opp_team_id  ... opp_blks opp_pfs opp_poss  \\\n",
       "0                                1350  ...        4      24       55   \n",
       "1                                1337  ...        2      18       58   \n",
       "2                                1332  ...        1      17       53   \n",
       "3                                1153  ...        2      16       61   \n",
       "4                                1257  ...        6      17       57   \n",
       "\n",
       "  opp_elo_before_game  opp_elo_after_game  opp_elo_win_prob team_off_eff  \\\n",
       "0          709.824755          697.340523          0.520176   107.792208   \n",
       "1          704.564412          717.048645          0.479824   100.000000   \n",
       "2          760.028215          744.627167          0.641710   101.315789   \n",
       "3          722.062511          737.463558          0.358290    68.421053   \n",
       "4          725.007502          734.190077          0.617393    84.000000   \n",
       "\n",
       "   team_def_eff  opp_off_eff  opp_def_eff  \n",
       "0    100.000000   100.000000   107.792208  \n",
       "1    107.792208   107.792208   100.000000  \n",
       "2     68.421053    68.421053   101.315789  \n",
       "3    101.315789   101.315789    68.421053  \n",
       "4    138.666667   138.666667    84.000000  \n",
       "\n",
       "[5 rows x 57 columns]"
      ]
     },
     "execution_count": 14,
     "metadata": {},
     "output_type": "execute_result"
    }
   ],
   "source": [
    "### preview data\n",
    "df.head()"
   ]
  },
  {
   "cell_type": "code",
   "execution_count": 15,
   "metadata": {},
   "outputs": [
    {
     "name": "stdout",
     "output_type": "stream",
     "text": [
      "<class 'pandas.core.frame.DataFrame'>\n",
      "RangeIndex: 184940 entries, 0 to 184939\n",
      "Data columns (total 57 columns):\n",
      "game_id                 184940 non-null object\n",
      "season                  184940 non-null int64\n",
      "day_num                 184940 non-null int64\n",
      "date                    184940 non-null object\n",
      "team_id                 184940 non-null int64\n",
      "team_name               184940 non-null object\n",
      "team_city               184940 non-null object\n",
      "team_state              184940 non-null object\n",
      "team_dist_from_home     184940 non-null object\n",
      "opp_team_id             184940 non-null int64\n",
      "opp_team_name           184940 non-null object\n",
      "opp_team_city           184940 non-null object\n",
      "opp_team_state          184940 non-null object\n",
      "opp_dist_from_home      184940 non-null object\n",
      "team_win                184940 non-null int64\n",
      "score_difference        184940 non-null int64\n",
      "team_location           184940 non-null object\n",
      "team_score              184940 non-null int64\n",
      "team_fgm                184940 non-null int64\n",
      "team_fga                184940 non-null int64\n",
      "team_3pm                184940 non-null int64\n",
      "team_3pa                184940 non-null int64\n",
      "team_ftm                184940 non-null int64\n",
      "team_fta                184940 non-null int64\n",
      "team_off_rebs           184940 non-null int64\n",
      "team_def_rebs           184940 non-null int64\n",
      "team_asts               184940 non-null int64\n",
      "team_tos                184940 non-null int64\n",
      "team_stls               184940 non-null int64\n",
      "team_blks               184940 non-null int64\n",
      "team_pfs                184940 non-null int64\n",
      "team_poss               184940 non-null int64\n",
      "team_elo_before_game    184940 non-null float64\n",
      "team_elo_after_game     184940 non-null float64\n",
      "team_elo_win_prob       184940 non-null float64\n",
      "opp_score               184940 non-null int64\n",
      "opp_fgm                 184940 non-null int64\n",
      "opp_fga                 184940 non-null int64\n",
      "opp_3pm                 184940 non-null int64\n",
      "opp_3pa                 184940 non-null int64\n",
      "opp_ftm                 184940 non-null int64\n",
      "opp_fta                 184940 non-null int64\n",
      "opp_off_rebs            184940 non-null int64\n",
      "opp_def_rebs            184940 non-null int64\n",
      "opp_asts                184940 non-null int64\n",
      "opp_tos                 184940 non-null int64\n",
      "opp_stls                184940 non-null int64\n",
      "opp_blks                184940 non-null int64\n",
      "opp_pfs                 184940 non-null int64\n",
      "opp_poss                184940 non-null int64\n",
      "opp_elo_before_game     184940 non-null float64\n",
      "opp_elo_after_game      184940 non-null float64\n",
      "opp_elo_win_prob        184940 non-null float64\n",
      "team_off_eff            184940 non-null float64\n",
      "team_def_eff            184940 non-null float64\n",
      "opp_off_eff             184940 non-null float64\n",
      "opp_def_eff             184940 non-null float64\n",
      "dtypes: float64(10), int64(36), object(11)\n",
      "memory usage: 80.4+ MB\n"
     ]
    }
   ],
   "source": [
    "### look at data types and check for nulls\n",
    "df.info()"
   ]
  },
  {
   "cell_type": "markdown",
   "metadata": {},
   "source": [
    "No null values. Most data is numeric form. Some are strings (location, game-id, etc.). Some could be converted to numeric possibly, such as 'team_dist_from_home'.\n",
    "\n",
    "Our target is going to be 'team_win'. It takes values 0 or 1."
   ]
  },
  {
   "cell_type": "code",
   "execution_count": 71,
   "metadata": {},
   "outputs": [
    {
     "data": {
      "text/plain": [
       "0         1\n",
       "1         0\n",
       "2         1\n",
       "3         0\n",
       "4         0\n",
       "         ..\n",
       "184935    1\n",
       "184936    0\n",
       "184937    1\n",
       "184938    0\n",
       "184939    1\n",
       "Name: team_win, Length: 184940, dtype: int64"
      ]
     },
     "execution_count": 71,
     "metadata": {},
     "output_type": "execute_result"
    }
   ],
   "source": [
    "df['team_win']"
   ]
  },
  {
   "cell_type": "markdown",
   "metadata": {},
   "source": [
    "Transform date column to datetime format"
   ]
  },
  {
   "cell_type": "code",
   "execution_count": 139,
   "metadata": {},
   "outputs": [],
   "source": [
    "df['date'] = pd.to_datetime(df['date'])"
   ]
  },
  {
   "cell_type": "code",
   "execution_count": 18,
   "metadata": {},
   "outputs": [
    {
     "data": {
      "text/html": [
       "<div>\n",
       "<style scoped>\n",
       "    .dataframe tbody tr th:only-of-type {\n",
       "        vertical-align: middle;\n",
       "    }\n",
       "\n",
       "    .dataframe tbody tr th {\n",
       "        vertical-align: top;\n",
       "    }\n",
       "\n",
       "    .dataframe thead th {\n",
       "        text-align: right;\n",
       "    }\n",
       "</style>\n",
       "<table border=\"1\" class=\"dataframe\">\n",
       "  <thead>\n",
       "    <tr style=\"text-align: right;\">\n",
       "      <th></th>\n",
       "      <th>team_elo_win_prob</th>\n",
       "      <th>opp_elo_win_prob</th>\n",
       "    </tr>\n",
       "  </thead>\n",
       "  <tbody>\n",
       "    <tr>\n",
       "      <td>0</td>\n",
       "      <td>0.479824</td>\n",
       "      <td>0.520176</td>\n",
       "    </tr>\n",
       "    <tr>\n",
       "      <td>1</td>\n",
       "      <td>0.520176</td>\n",
       "      <td>0.479824</td>\n",
       "    </tr>\n",
       "    <tr>\n",
       "      <td>2</td>\n",
       "      <td>0.358290</td>\n",
       "      <td>0.641710</td>\n",
       "    </tr>\n",
       "    <tr>\n",
       "      <td>3</td>\n",
       "      <td>0.641710</td>\n",
       "      <td>0.358290</td>\n",
       "    </tr>\n",
       "    <tr>\n",
       "      <td>4</td>\n",
       "      <td>0.382607</td>\n",
       "      <td>0.617393</td>\n",
       "    </tr>\n",
       "    <tr>\n",
       "      <td>...</td>\n",
       "      <td>...</td>\n",
       "      <td>...</td>\n",
       "    </tr>\n",
       "    <tr>\n",
       "      <td>184935</td>\n",
       "      <td>0.550405</td>\n",
       "      <td>0.449595</td>\n",
       "    </tr>\n",
       "    <tr>\n",
       "      <td>184936</td>\n",
       "      <td>0.570711</td>\n",
       "      <td>0.429289</td>\n",
       "    </tr>\n",
       "    <tr>\n",
       "      <td>184937</td>\n",
       "      <td>0.429289</td>\n",
       "      <td>0.570711</td>\n",
       "    </tr>\n",
       "    <tr>\n",
       "      <td>184938</td>\n",
       "      <td>0.338445</td>\n",
       "      <td>0.661555</td>\n",
       "    </tr>\n",
       "    <tr>\n",
       "      <td>184939</td>\n",
       "      <td>0.661555</td>\n",
       "      <td>0.338445</td>\n",
       "    </tr>\n",
       "  </tbody>\n",
       "</table>\n",
       "<p>184940 rows × 2 columns</p>\n",
       "</div>"
      ],
      "text/plain": [
       "        team_elo_win_prob  opp_elo_win_prob\n",
       "0                0.479824          0.520176\n",
       "1                0.520176          0.479824\n",
       "2                0.358290          0.641710\n",
       "3                0.641710          0.358290\n",
       "4                0.382607          0.617393\n",
       "...                   ...               ...\n",
       "184935           0.550405          0.449595\n",
       "184936           0.570711          0.429289\n",
       "184937           0.429289          0.570711\n",
       "184938           0.338445          0.661555\n",
       "184939           0.661555          0.338445\n",
       "\n",
       "[184940 rows x 2 columns]"
      ]
     },
     "execution_count": 18,
     "metadata": {},
     "output_type": "execute_result"
    }
   ],
   "source": [
    "### checking that the ELO win probabilities sum to 1\n",
    "df[['team_elo_win_prob', 'opp_elo_win_prob']]"
   ]
  },
  {
   "cell_type": "code",
   "execution_count": 69,
   "metadata": {},
   "outputs": [
    {
     "name": "stdout",
     "output_type": "stream",
     "text": [
      "0.9999999999999989\n",
      "1.000000000000001\n"
     ]
    }
   ],
   "source": [
    "comb = df['team_elo_win_prob'] + df['opp_elo_win_prob']\n",
    "print(comb.min())\n",
    "print(comb.max())"
   ]
  },
  {
   "cell_type": "markdown",
   "metadata": {},
   "source": [
    "OK, so the sums are all very close to 1, and the two columns make sense.\n",
    "\n",
    "How many unique teams are there?"
   ]
  },
  {
   "cell_type": "code",
   "execution_count": 82,
   "metadata": {},
   "outputs": [
    {
     "name": "stdout",
     "output_type": "stream",
     "text": [
      "Number of teams:  360\n"
     ]
    }
   ],
   "source": [
    "n_teams = len(df.team_id.unique())\n",
    "print(\"Number of teams: \", n_teams)"
   ]
  },
  {
   "cell_type": "markdown",
   "metadata": {},
   "source": [
    "How many matches did each team play?"
   ]
  },
  {
   "cell_type": "code",
   "execution_count": 117,
   "metadata": {},
   "outputs": [
    {
     "name": "stdout",
     "output_type": "stream",
     "text": [
      "count    360.000000\n",
      "mean     513.722222\n",
      "std       93.353138\n",
      "min        1.000000\n",
      "25%      514.000000\n",
      "50%      538.000000\n",
      "75%      557.000000\n",
      "max      586.000000\n",
      "Name: game_id, dtype: float64\n"
     ]
    },
    {
     "data": {
      "text/plain": [
       "{'whiskers': [<matplotlib.lines.Line2D at 0x13172bf28>,\n",
       "  <matplotlib.lines.Line2D at 0x13172beb8>],\n",
       " 'caps': [<matplotlib.lines.Line2D at 0x131641400>,\n",
       "  <matplotlib.lines.Line2D at 0x131641710>],\n",
       " 'boxes': [<matplotlib.lines.Line2D at 0x13172b7f0>],\n",
       " 'medians': [<matplotlib.lines.Line2D at 0x131641978>],\n",
       " 'fliers': [<matplotlib.lines.Line2D at 0x11dfee860>],\n",
       " 'means': []}"
      ]
     },
     "execution_count": 117,
     "metadata": {},
     "output_type": "execute_result"
    },
    {
     "data": {
      "image/png": "[encoded data removed]",
      "text/plain": [
       "<Figure size 432x288 with 1 Axes>"
      ]
     },
     "metadata": {
      "needs_background": "light"
     },
     "output_type": "display_data"
    }
   ],
   "source": [
    "team_appearances = df.groupby('team_id').count().iloc[:,0]\n",
    "print(team_appearances.describe())\n",
    "plt.boxplot(team_appearances)\n"
   ]
  },
  {
   "cell_type": "markdown",
   "metadata": {},
   "source": [
    "Plenty of outliers on the lower end"
   ]
  },
  {
   "cell_type": "code",
   "execution_count": 119,
   "metadata": {},
   "outputs": [
    {
     "data": {
      "text/plain": [
       "(array([  5.,   3.,   1.,   4.,   2.,   5.,   8.,   9., 103., 220.]),\n",
       " array([  1. ,  59.5, 118. , 176.5, 235. , 293.5, 352. , 410.5, 469. ,\n",
       "        527.5, 586. ]),\n",
       " <a list of 10 Patch objects>)"
      ]
     },
     "execution_count": 119,
     "metadata": {},
     "output_type": "execute_result"
    },
    {
     "data": {
      "image/png": "[encoded data removed]",
      "text/plain": [
       "<Figure size 432x288 with 1 Axes>"
      ]
     },
     "metadata": {
      "needs_background": "light"
     },
     "output_type": "display_data"
    }
   ],
   "source": [
    "# another view\n",
    "plt.hist(team_appearances)"
   ]
  },
  {
   "cell_type": "markdown",
   "metadata": {},
   "source": [
    "How can we see a teams record at the time of a match? \n",
    "Have to access both the TeamID and the Opposing TeamID"
   ]
  },
  {
   "cell_type": "code",
   "execution_count": 127,
   "metadata": {},
   "outputs": [
    {
     "data": {
      "text/plain": [
       "team_id\n",
       "1101     78\n",
       "1102    243\n",
       "1103    364\n",
       "1104    324\n",
       "1105    151\n",
       "       ... \n",
       "1464    148\n",
       "1465     29\n",
       "1466     18\n",
       "1467     34\n",
       "1468      0\n",
       "Name: team_win, Length: 360, dtype: int64"
      ]
     },
     "execution_count": 127,
     "metadata": {},
     "output_type": "execute_result"
    }
   ],
   "source": [
    "wins = df.groupby('team_id').agg(sum)['team_win']\n",
    "wins"
   ]
  },
  {
   "cell_type": "code",
   "execution_count": 131,
   "metadata": {},
   "outputs": [
    {
     "data": {
      "text/plain": [
       "team_id\n",
       "1101    106\n",
       "1102    278\n",
       "1103    198\n",
       "1104    238\n",
       "1105    340\n",
       "       ... \n",
       "1464    337\n",
       "1465     24\n",
       "1466     39\n",
       "1467     29\n",
       "1468      2\n",
       "Name: game_id, Length: 360, dtype: int64"
      ]
     },
     "execution_count": 131,
     "metadata": {},
     "output_type": "execute_result"
    }
   ],
   "source": [
    "df[df['team_win'] == 0].groupby('team_id').count().iloc[:,0]"
   ]
  },
  {
   "cell_type": "code",
   "execution_count": 138,
   "metadata": {},
   "outputs": [
    {
     "data": {
      "text/plain": [
       "0        2002-12-16\n",
       "1        2002-12-16\n",
       "2        2002-12-17\n",
       "3        2002-12-17\n",
       "4        2002-12-17\n",
       "            ...    \n",
       "184935   2002-12-15\n",
       "184936   2002-12-15\n",
       "184937   2002-12-15\n",
       "184938   2002-12-15\n",
       "184939   2002-12-15\n",
       "Name: date, Length: 184940, dtype: datetime64[ns]"
      ]
     },
     "execution_count": 138,
     "metadata": {},
     "output_type": "execute_result"
    }
   ],
   "source": []
  },
  {
   "cell_type": "markdown",
   "metadata": {},
   "source": [
    "### Feature selection / Engineering"
   ]
  },
  {
   "cell_type": "markdown",
   "metadata": {},
   "source": [
    "Some features are obviously not going to be available for new games. You will just have team names, their prior history, and possibly location data about the game"
   ]
  },
  {
   "cell_type": "code",
   "execution_count": null,
   "metadata": {},
   "outputs": [],
   "source": []
  }
 ],
 "metadata": {
  "kernelspec": {
   "display_name": "Python 3",
   "language": "python",
   "name": "python3"
  },
  "language_info": {
   "codemirror_mode": {
    "name": "ipython",
    "version": 3
   },
   "file_extension": ".py",
   "mimetype": "text/x-python",
   "name": "python",
   "nbconvert_exporter": "python",
   "pygments_lexer": "ipython3",
   "version": "3.7.3"
  }
 },
 "nbformat": 4,
 "nbformat_minor": 2
}
